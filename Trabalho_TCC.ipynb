{
  "cells": [
    {
      "cell_type": "code",
      "execution_count": 3,
      "id": "0c672f4b",
      "metadata": {
        "id": "0c672f4b"
      },
      "outputs": [],
      "source": [
        "import numpy as np\n",
        "import pandas as pd\n",
        "import tensorflow as tf\n",
        "import matplotlib.pyplot as plt\n",
        "from sklearn.metrics import ConfusionMatrixDisplay\n",
        "from sklearn.decomposition import PCA\n",
        "import sklearn as sk\n",
        "import io\n",
        "import seaborn as sns\n",
        "from sklearn import metrics as ms \n",
        "import time\n"
      ]
    },
    {
      "cell_type": "code",
      "execution_count": 4,
      "id": "aabf5487",
      "metadata": {
        "colab": {
          "base_uri": "https://localhost:8080/",
          "height": 35
        },
        "id": "aabf5487",
        "outputId": "63a59a3f-009c-466d-c5c7-b2c153d8c6b8"
      },
      "outputs": [
        {
          "data": {
            "text/plain": [
              "'2.10.0'"
            ]
          },
          "execution_count": 4,
          "metadata": {},
          "output_type": "execute_result"
        }
      ],
      "source": [
        "tf.__version__"
      ]
    },
    {
      "cell_type": "code",
      "execution_count": null,
      "id": "wX_KXFlP9Qx1",
      "metadata": {
        "colab": {
          "base_uri": "https://localhost:8080/",
          "height": 73
        },
        "id": "wX_KXFlP9Qx1",
        "outputId": "e05ecf9c-a7fc-48ba-c4ef-71a537edd28e"
      },
      "outputs": [],
      "source": [
        "uploaded = files.upload()"
      ]
    },
    {
      "cell_type": "code",
      "execution_count": null,
      "id": "XHjp7a2EmY08",
      "metadata": {
        "colab": {
          "base_uri": "https://localhost:8080/"
        },
        "id": "XHjp7a2EmY08",
        "outputId": "2ad1d97f-5cfd-4492-ffd3-13104f7ddcab"
      },
      "outputs": [],
      "source": [
        "import tensorflow as tf\n",
        "device_name = tf.test.gpu_device_name()\n",
        "if device_name != '/device:GPU:0':\n",
        "  raise SystemError('GPU device not found')\n",
        "print('Found GPU at: {}'.format(device_name))"
      ]
    },
    {
      "cell_type": "markdown",
      "id": "9dc1f9ae",
      "metadata": {
        "id": "9dc1f9ae"
      },
      "source": [
        "# Carregando a Base de Dados\n",
        "\n"
      ]
    },
    {
      "cell_type": "code",
      "execution_count": 246,
      "id": "1ee8b68c",
      "metadata": {
        "colab": {
          "base_uri": "https://localhost:8080/",
          "height": 696
        },
        "id": "1ee8b68c",
        "outputId": "07a824ff-ff59-4ee3-ee9e-73e35cfdcd64",
        "scrolled": true
      },
      "outputs": [
        {
          "name": "stderr",
          "output_type": "stream",
          "text": [
            "C:\\Users\\marce\\AppData\\Local\\Temp\\ipykernel_18164\\2218602655.py:1: DtypeWarning: Columns (10) have mixed types. Specify dtype option on import or set low_memory=False.\n",
            "  dataset = pd.read_csv(\"condition_total.csv\")\n"
          ]
        },
        {
          "data": {
            "text/html": [
              "<div>\n",
              "<style scoped>\n",
              "    .dataframe tbody tr th:only-of-type {\n",
              "        vertical-align: middle;\n",
              "    }\n",
              "\n",
              "    .dataframe tbody tr th {\n",
              "        vertical-align: top;\n",
              "    }\n",
              "\n",
              "    .dataframe thead th {\n",
              "        text-align: right;\n",
              "    }\n",
              "</style>\n",
              "<table border=\"1\" class=\"dataframe\">\n",
              "  <thead>\n",
              "    <tr style=\"text-align: right;\">\n",
              "      <th></th>\n",
              "      <th>number</th>\n",
              "      <th>timestamp</th>\n",
              "      <th>time</th>\n",
              "      <th>date</th>\n",
              "      <th>days</th>\n",
              "      <th>gender</th>\n",
              "      <th>age</th>\n",
              "      <th>afftype</th>\n",
              "      <th>melanch</th>\n",
              "      <th>inpatient</th>\n",
              "      <th>edu</th>\n",
              "      <th>marriage</th>\n",
              "      <th>work</th>\n",
              "      <th>madrs1</th>\n",
              "      <th>madrs2</th>\n",
              "      <th>activity</th>\n",
              "      <th>disorder</th>\n",
              "    </tr>\n",
              "  </thead>\n",
              "  <tbody>\n",
              "    <tr>\n",
              "      <th>0</th>\n",
              "      <td>23</td>\n",
              "      <td>2004-02-28</td>\n",
              "      <td>17:26:00</td>\n",
              "      <td>2004-02-28</td>\n",
              "      <td>13</td>\n",
              "      <td>1</td>\n",
              "      <td>20-24</td>\n",
              "      <td>0</td>\n",
              "      <td>0</td>\n",
              "      <td>0</td>\n",
              "      <td>0</td>\n",
              "      <td>0</td>\n",
              "      <td>0</td>\n",
              "      <td>0</td>\n",
              "      <td>0</td>\n",
              "      <td>174</td>\n",
              "      <td>0</td>\n",
              "    </tr>\n",
              "    <tr>\n",
              "      <th>1</th>\n",
              "      <td>23</td>\n",
              "      <td>2004-02-28</td>\n",
              "      <td>17:27:00</td>\n",
              "      <td>2004-02-28</td>\n",
              "      <td>13</td>\n",
              "      <td>1</td>\n",
              "      <td>20-24</td>\n",
              "      <td>0</td>\n",
              "      <td>0</td>\n",
              "      <td>0</td>\n",
              "      <td>0</td>\n",
              "      <td>0</td>\n",
              "      <td>0</td>\n",
              "      <td>0</td>\n",
              "      <td>0</td>\n",
              "      <td>47</td>\n",
              "      <td>0</td>\n",
              "    </tr>\n",
              "    <tr>\n",
              "      <th>2</th>\n",
              "      <td>23</td>\n",
              "      <td>2004-02-28</td>\n",
              "      <td>17:28:00</td>\n",
              "      <td>2004-02-28</td>\n",
              "      <td>13</td>\n",
              "      <td>1</td>\n",
              "      <td>20-24</td>\n",
              "      <td>0</td>\n",
              "      <td>0</td>\n",
              "      <td>0</td>\n",
              "      <td>0</td>\n",
              "      <td>0</td>\n",
              "      <td>0</td>\n",
              "      <td>0</td>\n",
              "      <td>0</td>\n",
              "      <td>57</td>\n",
              "      <td>0</td>\n",
              "    </tr>\n",
              "    <tr>\n",
              "      <th>3</th>\n",
              "      <td>23</td>\n",
              "      <td>2004-02-28</td>\n",
              "      <td>17:29:00</td>\n",
              "      <td>2004-02-28</td>\n",
              "      <td>13</td>\n",
              "      <td>1</td>\n",
              "      <td>20-24</td>\n",
              "      <td>0</td>\n",
              "      <td>0</td>\n",
              "      <td>0</td>\n",
              "      <td>0</td>\n",
              "      <td>0</td>\n",
              "      <td>0</td>\n",
              "      <td>0</td>\n",
              "      <td>0</td>\n",
              "      <td>137</td>\n",
              "      <td>0</td>\n",
              "    </tr>\n",
              "    <tr>\n",
              "      <th>4</th>\n",
              "      <td>23</td>\n",
              "      <td>2004-02-28</td>\n",
              "      <td>17:30:00</td>\n",
              "      <td>2004-02-28</td>\n",
              "      <td>13</td>\n",
              "      <td>1</td>\n",
              "      <td>20-24</td>\n",
              "      <td>0</td>\n",
              "      <td>0</td>\n",
              "      <td>0</td>\n",
              "      <td>0</td>\n",
              "      <td>0</td>\n",
              "      <td>0</td>\n",
              "      <td>0</td>\n",
              "      <td>0</td>\n",
              "      <td>99</td>\n",
              "      <td>0</td>\n",
              "    </tr>\n",
              "    <tr>\n",
              "      <th>...</th>\n",
              "      <td>...</td>\n",
              "      <td>...</td>\n",
              "      <td>...</td>\n",
              "      <td>...</td>\n",
              "      <td>...</td>\n",
              "      <td>...</td>\n",
              "      <td>...</td>\n",
              "      <td>...</td>\n",
              "      <td>...</td>\n",
              "      <td>...</td>\n",
              "      <td>...</td>\n",
              "      <td>...</td>\n",
              "      <td>...</td>\n",
              "      <td>...</td>\n",
              "      <td>...</td>\n",
              "      <td>...</td>\n",
              "      <td>...</td>\n",
              "    </tr>\n",
              "    <tr>\n",
              "      <th>1660061</th>\n",
              "      <td>9</td>\n",
              "      <td>2003-11-19</td>\n",
              "      <td>20:55:00</td>\n",
              "      <td>2003-11-19</td>\n",
              "      <td>13</td>\n",
              "      <td>2</td>\n",
              "      <td>30-34</td>\n",
              "      <td>0</td>\n",
              "      <td>0</td>\n",
              "      <td>0</td>\n",
              "      <td>0</td>\n",
              "      <td>0</td>\n",
              "      <td>0</td>\n",
              "      <td>0</td>\n",
              "      <td>0</td>\n",
              "      <td>0</td>\n",
              "      <td>0</td>\n",
              "    </tr>\n",
              "    <tr>\n",
              "      <th>1660062</th>\n",
              "      <td>9</td>\n",
              "      <td>2003-11-19</td>\n",
              "      <td>20:56:00</td>\n",
              "      <td>2003-11-19</td>\n",
              "      <td>13</td>\n",
              "      <td>2</td>\n",
              "      <td>30-34</td>\n",
              "      <td>0</td>\n",
              "      <td>0</td>\n",
              "      <td>0</td>\n",
              "      <td>0</td>\n",
              "      <td>0</td>\n",
              "      <td>0</td>\n",
              "      <td>0</td>\n",
              "      <td>0</td>\n",
              "      <td>0</td>\n",
              "      <td>0</td>\n",
              "    </tr>\n",
              "    <tr>\n",
              "      <th>1660063</th>\n",
              "      <td>9</td>\n",
              "      <td>2003-11-19</td>\n",
              "      <td>20:57:00</td>\n",
              "      <td>2003-11-19</td>\n",
              "      <td>13</td>\n",
              "      <td>2</td>\n",
              "      <td>30-34</td>\n",
              "      <td>0</td>\n",
              "      <td>0</td>\n",
              "      <td>0</td>\n",
              "      <td>0</td>\n",
              "      <td>0</td>\n",
              "      <td>0</td>\n",
              "      <td>0</td>\n",
              "      <td>0</td>\n",
              "      <td>16</td>\n",
              "      <td>0</td>\n",
              "    </tr>\n",
              "    <tr>\n",
              "      <th>1660064</th>\n",
              "      <td>9</td>\n",
              "      <td>2003-11-19</td>\n",
              "      <td>20:58:00</td>\n",
              "      <td>2003-11-19</td>\n",
              "      <td>13</td>\n",
              "      <td>2</td>\n",
              "      <td>30-34</td>\n",
              "      <td>0</td>\n",
              "      <td>0</td>\n",
              "      <td>0</td>\n",
              "      <td>0</td>\n",
              "      <td>0</td>\n",
              "      <td>0</td>\n",
              "      <td>0</td>\n",
              "      <td>0</td>\n",
              "      <td>0</td>\n",
              "      <td>0</td>\n",
              "    </tr>\n",
              "    <tr>\n",
              "      <th>1660065</th>\n",
              "      <td>9</td>\n",
              "      <td>2003-11-19</td>\n",
              "      <td>20:59:00</td>\n",
              "      <td>2003-11-19</td>\n",
              "      <td>13</td>\n",
              "      <td>2</td>\n",
              "      <td>30-34</td>\n",
              "      <td>0</td>\n",
              "      <td>0</td>\n",
              "      <td>0</td>\n",
              "      <td>0</td>\n",
              "      <td>0</td>\n",
              "      <td>0</td>\n",
              "      <td>0</td>\n",
              "      <td>0</td>\n",
              "      <td>47</td>\n",
              "      <td>0</td>\n",
              "    </tr>\n",
              "  </tbody>\n",
              "</table>\n",
              "<p>1660066 rows × 17 columns</p>\n",
              "</div>"
            ],
            "text/plain": [
              "         number   timestamp      time        date  days  gender    age  \\\n",
              "0            23  2004-02-28  17:26:00  2004-02-28    13       1  20-24   \n",
              "1            23  2004-02-28  17:27:00  2004-02-28    13       1  20-24   \n",
              "2            23  2004-02-28  17:28:00  2004-02-28    13       1  20-24   \n",
              "3            23  2004-02-28  17:29:00  2004-02-28    13       1  20-24   \n",
              "4            23  2004-02-28  17:30:00  2004-02-28    13       1  20-24   \n",
              "...         ...         ...       ...         ...   ...     ...    ...   \n",
              "1660061       9  2003-11-19  20:55:00  2003-11-19    13       2  30-34   \n",
              "1660062       9  2003-11-19  20:56:00  2003-11-19    13       2  30-34   \n",
              "1660063       9  2003-11-19  20:57:00  2003-11-19    13       2  30-34   \n",
              "1660064       9  2003-11-19  20:58:00  2003-11-19    13       2  30-34   \n",
              "1660065       9  2003-11-19  20:59:00  2003-11-19    13       2  30-34   \n",
              "\n",
              "         afftype  melanch  inpatient edu  marriage  work  madrs1  madrs2  \\\n",
              "0              0        0          0   0         0     0       0       0   \n",
              "1              0        0          0   0         0     0       0       0   \n",
              "2              0        0          0   0         0     0       0       0   \n",
              "3              0        0          0   0         0     0       0       0   \n",
              "4              0        0          0   0         0     0       0       0   \n",
              "...          ...      ...        ...  ..       ...   ...     ...     ...   \n",
              "1660061        0        0          0   0         0     0       0       0   \n",
              "1660062        0        0          0   0         0     0       0       0   \n",
              "1660063        0        0          0   0         0     0       0       0   \n",
              "1660064        0        0          0   0         0     0       0       0   \n",
              "1660065        0        0          0   0         0     0       0       0   \n",
              "\n",
              "         activity  disorder  \n",
              "0             174         0  \n",
              "1              47         0  \n",
              "2              57         0  \n",
              "3             137         0  \n",
              "4              99         0  \n",
              "...           ...       ...  \n",
              "1660061         0         0  \n",
              "1660062         0         0  \n",
              "1660063        16         0  \n",
              "1660064         0         0  \n",
              "1660065        47         0  \n",
              "\n",
              "[1660066 rows x 17 columns]"
            ]
          },
          "execution_count": 246,
          "metadata": {},
          "output_type": "execute_result"
        }
      ],
      "source": [
        "dataset = pd.read_csv(\"condition_total.csv\")\n",
        "dataset\n"
      ]
    },
    {
      "cell_type": "code",
      "execution_count": 247,
      "id": "e613b523",
      "metadata": {
        "colab": {
          "base_uri": "https://localhost:8080/"
        },
        "id": "e613b523",
        "outputId": "ec1c7966-7adf-45ea-8c59-954b52731faa"
      },
      "outputs": [
        {
          "name": "stdout",
          "output_type": "stream",
          "text": [
            "         disorder\n",
            "0               0\n",
            "1               0\n",
            "2               0\n",
            "3               0\n",
            "4               0\n",
            "...           ...\n",
            "1660061         0\n",
            "1660062         0\n",
            "1660063         0\n",
            "1660064         0\n",
            "1660065         0\n",
            "\n",
            "[1660066 rows x 1 columns]\n"
          ]
        }
      ],
      "source": [
        "y_y=dataset.iloc[:,16:17]\n",
        "print(y_y)\n"
      ]
    },
    {
      "cell_type": "code",
      "execution_count": null,
      "id": "70a22ded",
      "metadata": {
        "id": "70a22ded"
      },
      "outputs": [],
      "source": [
        "np.unique(dataset,return_counts=True)"
      ]
    },
    {
      "cell_type": "markdown",
      "id": "7ee557b6",
      "metadata": {
        "id": "7ee557b6"
      },
      "source": [
        "# Pré-processamento da base de dados\n",
        "\n",
        "1. Remoção de linhas nulas\n",
        "2. Separação dos dados em X (variáveis independentes) e y (variável dependente)\n",
        "3. Transformação das variáveis categóricas em numéricas (LabelEncoder e OneHotEncoder)\n",
        "4. Separação em Teste e Treino\n",
        "5. Normalização"
      ]
    },
    {
      "cell_type": "code",
      "execution_count": 248,
      "id": "e9ccc4f0",
      "metadata": {
        "colab": {
          "base_uri": "https://localhost:8080/"
        },
        "id": "e9ccc4f0",
        "outputId": "43ca9e87-aa6c-48b9-d1ab-047477daa590"
      },
      "outputs": [
        {
          "name": "stdout",
          "output_type": "stream",
          "text": [
            "         number   timestamp        date  days  gender    age  afftype  \\\n",
            "0            23  2004-02-28  2004-02-28    13       1  20-24        0   \n",
            "1            23  2004-02-28  2004-02-28    13       1  20-24        0   \n",
            "2            23  2004-02-28  2004-02-28    13       1  20-24        0   \n",
            "3            23  2004-02-28  2004-02-28    13       1  20-24        0   \n",
            "4            23  2004-02-28  2004-02-28    13       1  20-24        0   \n",
            "...         ...         ...         ...   ...     ...    ...      ...   \n",
            "1660061       9  2003-11-19  2003-11-19    13       2  30-34        0   \n",
            "1660062       9  2003-11-19  2003-11-19    13       2  30-34        0   \n",
            "1660063       9  2003-11-19  2003-11-19    13       2  30-34        0   \n",
            "1660064       9  2003-11-19  2003-11-19    13       2  30-34        0   \n",
            "1660065       9  2003-11-19  2003-11-19    13       2  30-34        0   \n",
            "\n",
            "         melanch  inpatient edu  marriage  work  madrs1  madrs2  activity  \\\n",
            "0              0          0   0         0     0       0       0       174   \n",
            "1              0          0   0         0     0       0       0        47   \n",
            "2              0          0   0         0     0       0       0        57   \n",
            "3              0          0   0         0     0       0       0       137   \n",
            "4              0          0   0         0     0       0       0        99   \n",
            "...          ...        ...  ..       ...   ...     ...     ...       ...   \n",
            "1660061        0          0   0         0     0       0       0         0   \n",
            "1660062        0          0   0         0     0       0       0         0   \n",
            "1660063        0          0   0         0     0       0       0        16   \n",
            "1660064        0          0   0         0     0       0       0         0   \n",
            "1660065        0          0   0         0     0       0       0        47   \n",
            "\n",
            "         disorder  hour  minute  \n",
            "0               0    17      26  \n",
            "1               0    17      27  \n",
            "2               0    17      28  \n",
            "3               0    17      29  \n",
            "4               0    17      30  \n",
            "...           ...   ...     ...  \n",
            "1660061         0    20      55  \n",
            "1660062         0    20      56  \n",
            "1660063         0    20      57  \n",
            "1660064         0    20      58  \n",
            "1660065         0    20      59  \n",
            "\n",
            "[1660066 rows x 18 columns]\n"
          ]
        }
      ],
      "source": [
        "import datetime\n",
        "\n",
        "#Separar time em Hora, Minuto, Segundo\n",
        "\n",
        "df = pd.DataFrame({'time': pd.to_datetime(dataset[\"time\"],errors='coerce')})\n",
        "dataset['hour'] = df['time'].dt.hour\n",
        "dataset['minute'] = df['time'].dt.minute\n",
        "dataset['second'] = df['time'].dt.second\n",
        "dataset.drop([\"time\",\"second\"], axis=1, inplace=True)\n",
        "\n",
        "\n",
        "print(dataset)"
      ]
    },
    {
      "cell_type": "code",
      "execution_count": 249,
      "id": "iiJ5wMkH4aaC",
      "metadata": {
        "colab": {
          "base_uri": "https://localhost:8080/"
        },
        "id": "iiJ5wMkH4aaC",
        "outputId": "c702f9d7-8e84-4da0-c542-ab1e0dad6265"
      },
      "outputs": [
        {
          "name": "stdout",
          "output_type": "stream",
          "text": [
            "         number  days  gender    age  afftype  melanch  inpatient edu  \\\n",
            "0            23    13       1  20-24        0        0          0   0   \n",
            "1            23    13       1  20-24        0        0          0   0   \n",
            "2            23    13       1  20-24        0        0          0   0   \n",
            "3            23    13       1  20-24        0        0          0   0   \n",
            "4            23    13       1  20-24        0        0          0   0   \n",
            "...         ...   ...     ...    ...      ...      ...        ...  ..   \n",
            "1660061       9    13       2  30-34        0        0          0   0   \n",
            "1660062       9    13       2  30-34        0        0          0   0   \n",
            "1660063       9    13       2  30-34        0        0          0   0   \n",
            "1660064       9    13       2  30-34        0        0          0   0   \n",
            "1660065       9    13       2  30-34        0        0          0   0   \n",
            "\n",
            "         marriage  work  madrs1  madrs2  activity  disorder  hour  minute  \\\n",
            "0               0     0       0       0       174         0    17      26   \n",
            "1               0     0       0       0        47         0    17      27   \n",
            "2               0     0       0       0        57         0    17      28   \n",
            "3               0     0       0       0       137         0    17      29   \n",
            "4               0     0       0       0        99         0    17      30   \n",
            "...           ...   ...     ...     ...       ...       ...   ...     ...   \n",
            "1660061         0     0       0       0         0         0    20      55   \n",
            "1660062         0     0       0       0         0         0    20      56   \n",
            "1660063         0     0       0       0        16         0    20      57   \n",
            "1660064         0     0       0       0         0         0    20      58   \n",
            "1660065         0     0       0       0        47         0    20      59   \n",
            "\n",
            "         day  Month  Year  \n",
            "0         28      2  2004  \n",
            "1         28      2  2004  \n",
            "2         28      2  2004  \n",
            "3         28      2  2004  \n",
            "4         28      2  2004  \n",
            "...      ...    ...   ...  \n",
            "1660061   19     11  2003  \n",
            "1660062   19     11  2003  \n",
            "1660063   19     11  2003  \n",
            "1660064   19     11  2003  \n",
            "1660065   19     11  2003  \n",
            "\n",
            "[1660066 rows x 19 columns]\n"
          ]
        }
      ],
      "source": [
        "import datetime\n",
        "\n",
        "#Separar timestamp em Dia, Mês, Ano\n",
        "\n",
        "df = pd.DataFrame({'timestamp': pd.to_datetime(dataset[\"timestamp\"],errors='coerce')})\n",
        "dataset['day'] = df['timestamp'].dt.day\n",
        "dataset['Month'] = df['timestamp'].dt.month \n",
        "dataset['Year'] = df['timestamp'].dt.year \n",
        "\n",
        "dataset.drop([\"timestamp\", \"date\"], axis=1, inplace=True)\n",
        "\n",
        "\n",
        "print(dataset)\n"
      ]
    },
    {
      "cell_type": "code",
      "execution_count": 250,
      "id": "e6c6735b",
      "metadata": {
        "id": "e6c6735b"
      },
      "outputs": [],
      "source": [
        "\n",
        "dataset.drop([\"number\"], axis=1, inplace=True)"
      ]
    },
    {
      "cell_type": "code",
      "execution_count": 251,
      "id": "6e3b8946",
      "metadata": {
        "colab": {
          "base_uri": "https://localhost:8080/",
          "height": 661
        },
        "id": "6e3b8946",
        "outputId": "482b4ed8-5c52-4498-d84d-ede5f6073326"
      },
      "outputs": [
        {
          "data": {
            "text/html": [
              "<div>\n",
              "<style scoped>\n",
              "    .dataframe tbody tr th:only-of-type {\n",
              "        vertical-align: middle;\n",
              "    }\n",
              "\n",
              "    .dataframe tbody tr th {\n",
              "        vertical-align: top;\n",
              "    }\n",
              "\n",
              "    .dataframe thead th {\n",
              "        text-align: right;\n",
              "    }\n",
              "</style>\n",
              "<table border=\"1\" class=\"dataframe\">\n",
              "  <thead>\n",
              "    <tr style=\"text-align: right;\">\n",
              "      <th></th>\n",
              "      <th>days</th>\n",
              "      <th>gender</th>\n",
              "      <th>age</th>\n",
              "      <th>afftype</th>\n",
              "      <th>melanch</th>\n",
              "      <th>inpatient</th>\n",
              "      <th>edu</th>\n",
              "      <th>marriage</th>\n",
              "      <th>work</th>\n",
              "      <th>madrs1</th>\n",
              "      <th>madrs2</th>\n",
              "      <th>activity</th>\n",
              "      <th>disorder</th>\n",
              "      <th>hour</th>\n",
              "      <th>minute</th>\n",
              "      <th>day</th>\n",
              "      <th>Month</th>\n",
              "      <th>Year</th>\n",
              "    </tr>\n",
              "  </thead>\n",
              "  <tbody>\n",
              "    <tr>\n",
              "      <th>0</th>\n",
              "      <td>13</td>\n",
              "      <td>1</td>\n",
              "      <td>20-24</td>\n",
              "      <td>0</td>\n",
              "      <td>0</td>\n",
              "      <td>0</td>\n",
              "      <td>0</td>\n",
              "      <td>0</td>\n",
              "      <td>0</td>\n",
              "      <td>0</td>\n",
              "      <td>0</td>\n",
              "      <td>174</td>\n",
              "      <td>0</td>\n",
              "      <td>17</td>\n",
              "      <td>26</td>\n",
              "      <td>28</td>\n",
              "      <td>2</td>\n",
              "      <td>2004</td>\n",
              "    </tr>\n",
              "    <tr>\n",
              "      <th>1</th>\n",
              "      <td>13</td>\n",
              "      <td>1</td>\n",
              "      <td>20-24</td>\n",
              "      <td>0</td>\n",
              "      <td>0</td>\n",
              "      <td>0</td>\n",
              "      <td>0</td>\n",
              "      <td>0</td>\n",
              "      <td>0</td>\n",
              "      <td>0</td>\n",
              "      <td>0</td>\n",
              "      <td>47</td>\n",
              "      <td>0</td>\n",
              "      <td>17</td>\n",
              "      <td>27</td>\n",
              "      <td>28</td>\n",
              "      <td>2</td>\n",
              "      <td>2004</td>\n",
              "    </tr>\n",
              "    <tr>\n",
              "      <th>2</th>\n",
              "      <td>13</td>\n",
              "      <td>1</td>\n",
              "      <td>20-24</td>\n",
              "      <td>0</td>\n",
              "      <td>0</td>\n",
              "      <td>0</td>\n",
              "      <td>0</td>\n",
              "      <td>0</td>\n",
              "      <td>0</td>\n",
              "      <td>0</td>\n",
              "      <td>0</td>\n",
              "      <td>57</td>\n",
              "      <td>0</td>\n",
              "      <td>17</td>\n",
              "      <td>28</td>\n",
              "      <td>28</td>\n",
              "      <td>2</td>\n",
              "      <td>2004</td>\n",
              "    </tr>\n",
              "    <tr>\n",
              "      <th>3</th>\n",
              "      <td>13</td>\n",
              "      <td>1</td>\n",
              "      <td>20-24</td>\n",
              "      <td>0</td>\n",
              "      <td>0</td>\n",
              "      <td>0</td>\n",
              "      <td>0</td>\n",
              "      <td>0</td>\n",
              "      <td>0</td>\n",
              "      <td>0</td>\n",
              "      <td>0</td>\n",
              "      <td>137</td>\n",
              "      <td>0</td>\n",
              "      <td>17</td>\n",
              "      <td>29</td>\n",
              "      <td>28</td>\n",
              "      <td>2</td>\n",
              "      <td>2004</td>\n",
              "    </tr>\n",
              "    <tr>\n",
              "      <th>4</th>\n",
              "      <td>13</td>\n",
              "      <td>1</td>\n",
              "      <td>20-24</td>\n",
              "      <td>0</td>\n",
              "      <td>0</td>\n",
              "      <td>0</td>\n",
              "      <td>0</td>\n",
              "      <td>0</td>\n",
              "      <td>0</td>\n",
              "      <td>0</td>\n",
              "      <td>0</td>\n",
              "      <td>99</td>\n",
              "      <td>0</td>\n",
              "      <td>17</td>\n",
              "      <td>30</td>\n",
              "      <td>28</td>\n",
              "      <td>2</td>\n",
              "      <td>2004</td>\n",
              "    </tr>\n",
              "    <tr>\n",
              "      <th>...</th>\n",
              "      <td>...</td>\n",
              "      <td>...</td>\n",
              "      <td>...</td>\n",
              "      <td>...</td>\n",
              "      <td>...</td>\n",
              "      <td>...</td>\n",
              "      <td>...</td>\n",
              "      <td>...</td>\n",
              "      <td>...</td>\n",
              "      <td>...</td>\n",
              "      <td>...</td>\n",
              "      <td>...</td>\n",
              "      <td>...</td>\n",
              "      <td>...</td>\n",
              "      <td>...</td>\n",
              "      <td>...</td>\n",
              "      <td>...</td>\n",
              "      <td>...</td>\n",
              "    </tr>\n",
              "    <tr>\n",
              "      <th>1660061</th>\n",
              "      <td>13</td>\n",
              "      <td>2</td>\n",
              "      <td>30-34</td>\n",
              "      <td>0</td>\n",
              "      <td>0</td>\n",
              "      <td>0</td>\n",
              "      <td>0</td>\n",
              "      <td>0</td>\n",
              "      <td>0</td>\n",
              "      <td>0</td>\n",
              "      <td>0</td>\n",
              "      <td>0</td>\n",
              "      <td>0</td>\n",
              "      <td>20</td>\n",
              "      <td>55</td>\n",
              "      <td>19</td>\n",
              "      <td>11</td>\n",
              "      <td>2003</td>\n",
              "    </tr>\n",
              "    <tr>\n",
              "      <th>1660062</th>\n",
              "      <td>13</td>\n",
              "      <td>2</td>\n",
              "      <td>30-34</td>\n",
              "      <td>0</td>\n",
              "      <td>0</td>\n",
              "      <td>0</td>\n",
              "      <td>0</td>\n",
              "      <td>0</td>\n",
              "      <td>0</td>\n",
              "      <td>0</td>\n",
              "      <td>0</td>\n",
              "      <td>0</td>\n",
              "      <td>0</td>\n",
              "      <td>20</td>\n",
              "      <td>56</td>\n",
              "      <td>19</td>\n",
              "      <td>11</td>\n",
              "      <td>2003</td>\n",
              "    </tr>\n",
              "    <tr>\n",
              "      <th>1660063</th>\n",
              "      <td>13</td>\n",
              "      <td>2</td>\n",
              "      <td>30-34</td>\n",
              "      <td>0</td>\n",
              "      <td>0</td>\n",
              "      <td>0</td>\n",
              "      <td>0</td>\n",
              "      <td>0</td>\n",
              "      <td>0</td>\n",
              "      <td>0</td>\n",
              "      <td>0</td>\n",
              "      <td>16</td>\n",
              "      <td>0</td>\n",
              "      <td>20</td>\n",
              "      <td>57</td>\n",
              "      <td>19</td>\n",
              "      <td>11</td>\n",
              "      <td>2003</td>\n",
              "    </tr>\n",
              "    <tr>\n",
              "      <th>1660064</th>\n",
              "      <td>13</td>\n",
              "      <td>2</td>\n",
              "      <td>30-34</td>\n",
              "      <td>0</td>\n",
              "      <td>0</td>\n",
              "      <td>0</td>\n",
              "      <td>0</td>\n",
              "      <td>0</td>\n",
              "      <td>0</td>\n",
              "      <td>0</td>\n",
              "      <td>0</td>\n",
              "      <td>0</td>\n",
              "      <td>0</td>\n",
              "      <td>20</td>\n",
              "      <td>58</td>\n",
              "      <td>19</td>\n",
              "      <td>11</td>\n",
              "      <td>2003</td>\n",
              "    </tr>\n",
              "    <tr>\n",
              "      <th>1660065</th>\n",
              "      <td>13</td>\n",
              "      <td>2</td>\n",
              "      <td>30-34</td>\n",
              "      <td>0</td>\n",
              "      <td>0</td>\n",
              "      <td>0</td>\n",
              "      <td>0</td>\n",
              "      <td>0</td>\n",
              "      <td>0</td>\n",
              "      <td>0</td>\n",
              "      <td>0</td>\n",
              "      <td>47</td>\n",
              "      <td>0</td>\n",
              "      <td>20</td>\n",
              "      <td>59</td>\n",
              "      <td>19</td>\n",
              "      <td>11</td>\n",
              "      <td>2003</td>\n",
              "    </tr>\n",
              "  </tbody>\n",
              "</table>\n",
              "<p>1660066 rows × 18 columns</p>\n",
              "</div>"
            ],
            "text/plain": [
              "         days  gender    age  afftype  melanch  inpatient edu  marriage  work  \\\n",
              "0          13       1  20-24        0        0          0   0         0     0   \n",
              "1          13       1  20-24        0        0          0   0         0     0   \n",
              "2          13       1  20-24        0        0          0   0         0     0   \n",
              "3          13       1  20-24        0        0          0   0         0     0   \n",
              "4          13       1  20-24        0        0          0   0         0     0   \n",
              "...       ...     ...    ...      ...      ...        ...  ..       ...   ...   \n",
              "1660061    13       2  30-34        0        0          0   0         0     0   \n",
              "1660062    13       2  30-34        0        0          0   0         0     0   \n",
              "1660063    13       2  30-34        0        0          0   0         0     0   \n",
              "1660064    13       2  30-34        0        0          0   0         0     0   \n",
              "1660065    13       2  30-34        0        0          0   0         0     0   \n",
              "\n",
              "         madrs1  madrs2  activity  disorder  hour  minute  day  Month  Year  \n",
              "0             0       0       174         0    17      26   28      2  2004  \n",
              "1             0       0        47         0    17      27   28      2  2004  \n",
              "2             0       0        57         0    17      28   28      2  2004  \n",
              "3             0       0       137         0    17      29   28      2  2004  \n",
              "4             0       0        99         0    17      30   28      2  2004  \n",
              "...         ...     ...       ...       ...   ...     ...  ...    ...   ...  \n",
              "1660061       0       0         0         0    20      55   19     11  2003  \n",
              "1660062       0       0         0         0    20      56   19     11  2003  \n",
              "1660063       0       0        16         0    20      57   19     11  2003  \n",
              "1660064       0       0         0         0    20      58   19     11  2003  \n",
              "1660065       0       0        47         0    20      59   19     11  2003  \n",
              "\n",
              "[1660066 rows x 18 columns]"
            ]
          },
          "execution_count": 251,
          "metadata": {},
          "output_type": "execute_result"
        }
      ],
      "source": [
        "dataset[dataset.isnull().any(axis=1)]  #quantas linhas nulas?\n",
        "dataset = dataset.dropna() \n",
        "dataset"
      ]
    },
    {
      "cell_type": "code",
      "execution_count": 252,
      "id": "47b4195e",
      "metadata": {
        "colab": {
          "base_uri": "https://localhost:8080/",
          "height": 357
        },
        "id": "47b4195e",
        "outputId": "5a5bf150-1767-40ea-d63e-680103d39e6f"
      },
      "outputs": [
        {
          "data": {
            "text/html": [
              "<div>\n",
              "<style scoped>\n",
              "    .dataframe tbody tr th:only-of-type {\n",
              "        vertical-align: middle;\n",
              "    }\n",
              "\n",
              "    .dataframe tbody tr th {\n",
              "        vertical-align: top;\n",
              "    }\n",
              "\n",
              "    .dataframe thead th {\n",
              "        text-align: right;\n",
              "    }\n",
              "</style>\n",
              "<table border=\"1\" class=\"dataframe\">\n",
              "  <thead>\n",
              "    <tr style=\"text-align: right;\">\n",
              "      <th></th>\n",
              "      <th>days</th>\n",
              "      <th>gender</th>\n",
              "      <th>age</th>\n",
              "      <th>afftype</th>\n",
              "      <th>melanch</th>\n",
              "      <th>inpatient</th>\n",
              "      <th>edu</th>\n",
              "      <th>marriage</th>\n",
              "      <th>work</th>\n",
              "      <th>madrs1</th>\n",
              "      <th>madrs2</th>\n",
              "      <th>activity</th>\n",
              "      <th>hour</th>\n",
              "      <th>minute</th>\n",
              "      <th>day</th>\n",
              "      <th>Month</th>\n",
              "      <th>Year</th>\n",
              "    </tr>\n",
              "  </thead>\n",
              "  <tbody>\n",
              "    <tr>\n",
              "      <th>0</th>\n",
              "      <td>13</td>\n",
              "      <td>1</td>\n",
              "      <td>20-24</td>\n",
              "      <td>0</td>\n",
              "      <td>0</td>\n",
              "      <td>0</td>\n",
              "      <td>0</td>\n",
              "      <td>0</td>\n",
              "      <td>0</td>\n",
              "      <td>0</td>\n",
              "      <td>0</td>\n",
              "      <td>174</td>\n",
              "      <td>17</td>\n",
              "      <td>26</td>\n",
              "      <td>28</td>\n",
              "      <td>2</td>\n",
              "      <td>2004</td>\n",
              "    </tr>\n",
              "    <tr>\n",
              "      <th>1</th>\n",
              "      <td>13</td>\n",
              "      <td>1</td>\n",
              "      <td>20-24</td>\n",
              "      <td>0</td>\n",
              "      <td>0</td>\n",
              "      <td>0</td>\n",
              "      <td>0</td>\n",
              "      <td>0</td>\n",
              "      <td>0</td>\n",
              "      <td>0</td>\n",
              "      <td>0</td>\n",
              "      <td>47</td>\n",
              "      <td>17</td>\n",
              "      <td>27</td>\n",
              "      <td>28</td>\n",
              "      <td>2</td>\n",
              "      <td>2004</td>\n",
              "    </tr>\n",
              "    <tr>\n",
              "      <th>2</th>\n",
              "      <td>13</td>\n",
              "      <td>1</td>\n",
              "      <td>20-24</td>\n",
              "      <td>0</td>\n",
              "      <td>0</td>\n",
              "      <td>0</td>\n",
              "      <td>0</td>\n",
              "      <td>0</td>\n",
              "      <td>0</td>\n",
              "      <td>0</td>\n",
              "      <td>0</td>\n",
              "      <td>57</td>\n",
              "      <td>17</td>\n",
              "      <td>28</td>\n",
              "      <td>28</td>\n",
              "      <td>2</td>\n",
              "      <td>2004</td>\n",
              "    </tr>\n",
              "    <tr>\n",
              "      <th>3</th>\n",
              "      <td>13</td>\n",
              "      <td>1</td>\n",
              "      <td>20-24</td>\n",
              "      <td>0</td>\n",
              "      <td>0</td>\n",
              "      <td>0</td>\n",
              "      <td>0</td>\n",
              "      <td>0</td>\n",
              "      <td>0</td>\n",
              "      <td>0</td>\n",
              "      <td>0</td>\n",
              "      <td>137</td>\n",
              "      <td>17</td>\n",
              "      <td>29</td>\n",
              "      <td>28</td>\n",
              "      <td>2</td>\n",
              "      <td>2004</td>\n",
              "    </tr>\n",
              "    <tr>\n",
              "      <th>4</th>\n",
              "      <td>13</td>\n",
              "      <td>1</td>\n",
              "      <td>20-24</td>\n",
              "      <td>0</td>\n",
              "      <td>0</td>\n",
              "      <td>0</td>\n",
              "      <td>0</td>\n",
              "      <td>0</td>\n",
              "      <td>0</td>\n",
              "      <td>0</td>\n",
              "      <td>0</td>\n",
              "      <td>99</td>\n",
              "      <td>17</td>\n",
              "      <td>30</td>\n",
              "      <td>28</td>\n",
              "      <td>2</td>\n",
              "      <td>2004</td>\n",
              "    </tr>\n",
              "  </tbody>\n",
              "</table>\n",
              "</div>"
            ],
            "text/plain": [
              "   days  gender    age  afftype  melanch  inpatient edu  marriage  work  \\\n",
              "0    13       1  20-24        0        0          0   0         0     0   \n",
              "1    13       1  20-24        0        0          0   0         0     0   \n",
              "2    13       1  20-24        0        0          0   0         0     0   \n",
              "3    13       1  20-24        0        0          0   0         0     0   \n",
              "4    13       1  20-24        0        0          0   0         0     0   \n",
              "\n",
              "   madrs1  madrs2  activity  hour  minute  day  Month  Year  \n",
              "0       0       0       174    17      26   28      2  2004  \n",
              "1       0       0        47    17      27   28      2  2004  \n",
              "2       0       0        57    17      28   28      2  2004  \n",
              "3       0       0       137    17      29   28      2  2004  \n",
              "4       0       0        99    17      30   28      2  2004  "
            ]
          },
          "execution_count": 252,
          "metadata": {},
          "output_type": "execute_result"
        }
      ],
      "source": [
        "# Deletando a variável y_y\n",
        "dataset=dataset.drop(columns=['disorder'])\n",
        "dataset.head()\n",
        "\n",
        "\n"
      ]
    },
    {
      "cell_type": "code",
      "execution_count": 253,
      "id": "ea9e69bf",
      "metadata": {
        "colab": {
          "base_uri": "https://localhost:8080/"
        },
        "id": "ea9e69bf",
        "outputId": "ed97c92a-a309-4841-e386-65fdb3b0a42c"
      },
      "outputs": [
        {
          "name": "stdout",
          "output_type": "stream",
          "text": [
            "         days  gender    age  afftype  melanch  inpatient edu  marriage  work  \\\n",
            "0          13       1  20-24        0        0          0   0         0     0   \n",
            "1          13       1  20-24        0        0          0   0         0     0   \n",
            "2          13       1  20-24        0        0          0   0         0     0   \n",
            "3          13       1  20-24        0        0          0   0         0     0   \n",
            "4          13       1  20-24        0        0          0   0         0     0   \n",
            "...       ...     ...    ...      ...      ...        ...  ..       ...   ...   \n",
            "1660061    13       2  30-34        0        0          0   0         0     0   \n",
            "1660062    13       2  30-34        0        0          0   0         0     0   \n",
            "1660063    13       2  30-34        0        0          0   0         0     0   \n",
            "1660064    13       2  30-34        0        0          0   0         0     0   \n",
            "1660065    13       2  30-34        0        0          0   0         0     0   \n",
            "\n",
            "         madrs1  madrs2  activity  hour  minute  day  Month  Year  \n",
            "0             0       0       174    17      26   28      2  2004  \n",
            "1             0       0        47    17      27   28      2  2004  \n",
            "2             0       0        57    17      28   28      2  2004  \n",
            "3             0       0       137    17      29   28      2  2004  \n",
            "4             0       0        99    17      30   28      2  2004  \n",
            "...         ...     ...       ...   ...     ...  ...    ...   ...  \n",
            "1660061       0       0         0    20      55   19     11  2003  \n",
            "1660062       0       0         0    20      56   19     11  2003  \n",
            "1660063       0       0        16    20      57   19     11  2003  \n",
            "1660064       0       0         0    20      58   19     11  2003  \n",
            "1660065       0       0        47    20      59   19     11  2003  \n",
            "\n",
            "[1660066 rows x 17 columns]\n"
          ]
        }
      ],
      "source": [
        "\n",
        "x_x=dataset.iloc[:,0:]\n",
        "print(x_x)"
      ]
    },
    {
      "cell_type": "code",
      "execution_count": null,
      "id": "fdf9932c",
      "metadata": {
        "id": "fdf9932c"
      },
      "outputs": [],
      "source": [
        "#Analise da matriz de correlações dos dados.\n",
        "\n",
        "# Cálculo da matriz de correlações\n",
        "\n",
        "corr = dataset.iloc[:,0:].corr()\n",
        "corr"
      ]
    },
    {
      "cell_type": "code",
      "execution_count": null,
      "id": "b5442ef1",
      "metadata": {
        "id": "b5442ef1"
      },
      "outputs": [],
      "source": [
        "# Mapa de calor das correlações\n",
        "\n",
        "sns.heatmap(corr, \n",
        "        xticklabels=corr.columns,\n",
        "        yticklabels=corr.columns, cmap=\"YlGnBu\")"
      ]
    },
    {
      "cell_type": "code",
      "execution_count": 254,
      "id": "e989f02f",
      "metadata": {
        "colab": {
          "base_uri": "https://localhost:8080/"
        },
        "id": "e989f02f",
        "outputId": "52587795-95db-4f63-8527-abe61c8cb24a"
      },
      "outputs": [
        {
          "data": {
            "text/plain": [
              "array([[1.0, 0.0, 0.0, ..., '28', '2', '2004'],\n",
              "       [1.0, 0.0, 0.0, ..., '28', '2', '2004'],\n",
              "       [1.0, 0.0, 0.0, ..., '28', '2', '2004'],\n",
              "       ...,\n",
              "       [1.0, 0.0, 0.0, ..., '19', '11', '2003'],\n",
              "       [1.0, 0.0, 0.0, ..., '19', '11', '2003'],\n",
              "       [1.0, 0.0, 0.0, ..., '19', '11', '2003']], dtype=object)"
            ]
          },
          "execution_count": 254,
          "metadata": {},
          "output_type": "execute_result"
        }
      ],
      "source": [
        "from sklearn.compose import ColumnTransformer\n",
        "from sklearn.preprocessing import OneHotEncoder \n",
        "\n",
        "#https://towardsdatascience.com/columntransformer-in-scikit-for-labelencoding-and-onehotencoding-in-machine-learning-c6255952731b\n",
        "ct = ColumnTransformer(transformers = [('encoder', OneHotEncoder(),['edu','age'])], remainder ='passthrough')\n",
        "x_x = ct.fit_transform(x_x.astype(str))\n",
        "\n",
        "x_x"
      ]
    },
    {
      "cell_type": "code",
      "execution_count": 255,
      "id": "d39cb542",
      "metadata": {
        "colab": {
          "base_uri": "https://localhost:8080/",
          "height": 488
        },
        "id": "d39cb542",
        "outputId": "3cfd382b-342a-4392-d71a-42a24ee5c9c3"
      },
      "outputs": [
        {
          "data": {
            "text/html": [
              "<div>\n",
              "<style scoped>\n",
              "    .dataframe tbody tr th:only-of-type {\n",
              "        vertical-align: middle;\n",
              "    }\n",
              "\n",
              "    .dataframe tbody tr th {\n",
              "        vertical-align: top;\n",
              "    }\n",
              "\n",
              "    .dataframe thead th {\n",
              "        text-align: right;\n",
              "    }\n",
              "</style>\n",
              "<table border=\"1\" class=\"dataframe\">\n",
              "  <thead>\n",
              "    <tr style=\"text-align: right;\">\n",
              "      <th></th>\n",
              "      <th>ohe1</th>\n",
              "      <th>ohe2</th>\n",
              "      <th>ohe3</th>\n",
              "      <th>ohe4</th>\n",
              "      <th>ohe5</th>\n",
              "      <th>ohe6</th>\n",
              "      <th>ohe7</th>\n",
              "      <th>ohe8</th>\n",
              "      <th>ohe9</th>\n",
              "      <th>ohe10</th>\n",
              "      <th>...</th>\n",
              "      <th>marriage</th>\n",
              "      <th>work</th>\n",
              "      <th>madrs1</th>\n",
              "      <th>madrs2</th>\n",
              "      <th>activity</th>\n",
              "      <th>hour</th>\n",
              "      <th>minute</th>\n",
              "      <th>day</th>\n",
              "      <th>Month</th>\n",
              "      <th>Year</th>\n",
              "    </tr>\n",
              "  </thead>\n",
              "  <tbody>\n",
              "    <tr>\n",
              "      <th>0</th>\n",
              "      <td>1.0</td>\n",
              "      <td>0.0</td>\n",
              "      <td>0.0</td>\n",
              "      <td>0.0</td>\n",
              "      <td>0.0</td>\n",
              "      <td>0.0</td>\n",
              "      <td>1.0</td>\n",
              "      <td>0.0</td>\n",
              "      <td>0.0</td>\n",
              "      <td>0.0</td>\n",
              "      <td>...</td>\n",
              "      <td>0</td>\n",
              "      <td>0</td>\n",
              "      <td>0</td>\n",
              "      <td>0</td>\n",
              "      <td>174</td>\n",
              "      <td>17</td>\n",
              "      <td>26</td>\n",
              "      <td>28</td>\n",
              "      <td>2</td>\n",
              "      <td>2004</td>\n",
              "    </tr>\n",
              "    <tr>\n",
              "      <th>1</th>\n",
              "      <td>1.0</td>\n",
              "      <td>0.0</td>\n",
              "      <td>0.0</td>\n",
              "      <td>0.0</td>\n",
              "      <td>0.0</td>\n",
              "      <td>0.0</td>\n",
              "      <td>1.0</td>\n",
              "      <td>0.0</td>\n",
              "      <td>0.0</td>\n",
              "      <td>0.0</td>\n",
              "      <td>...</td>\n",
              "      <td>0</td>\n",
              "      <td>0</td>\n",
              "      <td>0</td>\n",
              "      <td>0</td>\n",
              "      <td>47</td>\n",
              "      <td>17</td>\n",
              "      <td>27</td>\n",
              "      <td>28</td>\n",
              "      <td>2</td>\n",
              "      <td>2004</td>\n",
              "    </tr>\n",
              "    <tr>\n",
              "      <th>2</th>\n",
              "      <td>1.0</td>\n",
              "      <td>0.0</td>\n",
              "      <td>0.0</td>\n",
              "      <td>0.0</td>\n",
              "      <td>0.0</td>\n",
              "      <td>0.0</td>\n",
              "      <td>1.0</td>\n",
              "      <td>0.0</td>\n",
              "      <td>0.0</td>\n",
              "      <td>0.0</td>\n",
              "      <td>...</td>\n",
              "      <td>0</td>\n",
              "      <td>0</td>\n",
              "      <td>0</td>\n",
              "      <td>0</td>\n",
              "      <td>57</td>\n",
              "      <td>17</td>\n",
              "      <td>28</td>\n",
              "      <td>28</td>\n",
              "      <td>2</td>\n",
              "      <td>2004</td>\n",
              "    </tr>\n",
              "    <tr>\n",
              "      <th>3</th>\n",
              "      <td>1.0</td>\n",
              "      <td>0.0</td>\n",
              "      <td>0.0</td>\n",
              "      <td>0.0</td>\n",
              "      <td>0.0</td>\n",
              "      <td>0.0</td>\n",
              "      <td>1.0</td>\n",
              "      <td>0.0</td>\n",
              "      <td>0.0</td>\n",
              "      <td>0.0</td>\n",
              "      <td>...</td>\n",
              "      <td>0</td>\n",
              "      <td>0</td>\n",
              "      <td>0</td>\n",
              "      <td>0</td>\n",
              "      <td>137</td>\n",
              "      <td>17</td>\n",
              "      <td>29</td>\n",
              "      <td>28</td>\n",
              "      <td>2</td>\n",
              "      <td>2004</td>\n",
              "    </tr>\n",
              "    <tr>\n",
              "      <th>4</th>\n",
              "      <td>1.0</td>\n",
              "      <td>0.0</td>\n",
              "      <td>0.0</td>\n",
              "      <td>0.0</td>\n",
              "      <td>0.0</td>\n",
              "      <td>0.0</td>\n",
              "      <td>1.0</td>\n",
              "      <td>0.0</td>\n",
              "      <td>0.0</td>\n",
              "      <td>0.0</td>\n",
              "      <td>...</td>\n",
              "      <td>0</td>\n",
              "      <td>0</td>\n",
              "      <td>0</td>\n",
              "      <td>0</td>\n",
              "      <td>99</td>\n",
              "      <td>17</td>\n",
              "      <td>30</td>\n",
              "      <td>28</td>\n",
              "      <td>2</td>\n",
              "      <td>2004</td>\n",
              "    </tr>\n",
              "    <tr>\n",
              "      <th>...</th>\n",
              "      <td>...</td>\n",
              "      <td>...</td>\n",
              "      <td>...</td>\n",
              "      <td>...</td>\n",
              "      <td>...</td>\n",
              "      <td>...</td>\n",
              "      <td>...</td>\n",
              "      <td>...</td>\n",
              "      <td>...</td>\n",
              "      <td>...</td>\n",
              "      <td>...</td>\n",
              "      <td>...</td>\n",
              "      <td>...</td>\n",
              "      <td>...</td>\n",
              "      <td>...</td>\n",
              "      <td>...</td>\n",
              "      <td>...</td>\n",
              "      <td>...</td>\n",
              "      <td>...</td>\n",
              "      <td>...</td>\n",
              "      <td>...</td>\n",
              "    </tr>\n",
              "    <tr>\n",
              "      <th>1660061</th>\n",
              "      <td>1.0</td>\n",
              "      <td>0.0</td>\n",
              "      <td>0.0</td>\n",
              "      <td>0.0</td>\n",
              "      <td>0.0</td>\n",
              "      <td>0.0</td>\n",
              "      <td>0.0</td>\n",
              "      <td>0.0</td>\n",
              "      <td>1.0</td>\n",
              "      <td>0.0</td>\n",
              "      <td>...</td>\n",
              "      <td>0</td>\n",
              "      <td>0</td>\n",
              "      <td>0</td>\n",
              "      <td>0</td>\n",
              "      <td>0</td>\n",
              "      <td>20</td>\n",
              "      <td>55</td>\n",
              "      <td>19</td>\n",
              "      <td>11</td>\n",
              "      <td>2003</td>\n",
              "    </tr>\n",
              "    <tr>\n",
              "      <th>1660062</th>\n",
              "      <td>1.0</td>\n",
              "      <td>0.0</td>\n",
              "      <td>0.0</td>\n",
              "      <td>0.0</td>\n",
              "      <td>0.0</td>\n",
              "      <td>0.0</td>\n",
              "      <td>0.0</td>\n",
              "      <td>0.0</td>\n",
              "      <td>1.0</td>\n",
              "      <td>0.0</td>\n",
              "      <td>...</td>\n",
              "      <td>0</td>\n",
              "      <td>0</td>\n",
              "      <td>0</td>\n",
              "      <td>0</td>\n",
              "      <td>0</td>\n",
              "      <td>20</td>\n",
              "      <td>56</td>\n",
              "      <td>19</td>\n",
              "      <td>11</td>\n",
              "      <td>2003</td>\n",
              "    </tr>\n",
              "    <tr>\n",
              "      <th>1660063</th>\n",
              "      <td>1.0</td>\n",
              "      <td>0.0</td>\n",
              "      <td>0.0</td>\n",
              "      <td>0.0</td>\n",
              "      <td>0.0</td>\n",
              "      <td>0.0</td>\n",
              "      <td>0.0</td>\n",
              "      <td>0.0</td>\n",
              "      <td>1.0</td>\n",
              "      <td>0.0</td>\n",
              "      <td>...</td>\n",
              "      <td>0</td>\n",
              "      <td>0</td>\n",
              "      <td>0</td>\n",
              "      <td>0</td>\n",
              "      <td>16</td>\n",
              "      <td>20</td>\n",
              "      <td>57</td>\n",
              "      <td>19</td>\n",
              "      <td>11</td>\n",
              "      <td>2003</td>\n",
              "    </tr>\n",
              "    <tr>\n",
              "      <th>1660064</th>\n",
              "      <td>1.0</td>\n",
              "      <td>0.0</td>\n",
              "      <td>0.0</td>\n",
              "      <td>0.0</td>\n",
              "      <td>0.0</td>\n",
              "      <td>0.0</td>\n",
              "      <td>0.0</td>\n",
              "      <td>0.0</td>\n",
              "      <td>1.0</td>\n",
              "      <td>0.0</td>\n",
              "      <td>...</td>\n",
              "      <td>0</td>\n",
              "      <td>0</td>\n",
              "      <td>0</td>\n",
              "      <td>0</td>\n",
              "      <td>0</td>\n",
              "      <td>20</td>\n",
              "      <td>58</td>\n",
              "      <td>19</td>\n",
              "      <td>11</td>\n",
              "      <td>2003</td>\n",
              "    </tr>\n",
              "    <tr>\n",
              "      <th>1660065</th>\n",
              "      <td>1.0</td>\n",
              "      <td>0.0</td>\n",
              "      <td>0.0</td>\n",
              "      <td>0.0</td>\n",
              "      <td>0.0</td>\n",
              "      <td>0.0</td>\n",
              "      <td>0.0</td>\n",
              "      <td>0.0</td>\n",
              "      <td>1.0</td>\n",
              "      <td>0.0</td>\n",
              "      <td>...</td>\n",
              "      <td>0</td>\n",
              "      <td>0</td>\n",
              "      <td>0</td>\n",
              "      <td>0</td>\n",
              "      <td>47</td>\n",
              "      <td>20</td>\n",
              "      <td>59</td>\n",
              "      <td>19</td>\n",
              "      <td>11</td>\n",
              "      <td>2003</td>\n",
              "    </tr>\n",
              "  </tbody>\n",
              "</table>\n",
              "<p>1660066 rows × 30 columns</p>\n",
              "</div>"
            ],
            "text/plain": [
              "        ohe1 ohe2 ohe3 ohe4 ohe5 ohe6 ohe7 ohe8 ohe9 ohe10  ... marriage work  \\\n",
              "0        1.0  0.0  0.0  0.0  0.0  0.0  1.0  0.0  0.0   0.0  ...        0    0   \n",
              "1        1.0  0.0  0.0  0.0  0.0  0.0  1.0  0.0  0.0   0.0  ...        0    0   \n",
              "2        1.0  0.0  0.0  0.0  0.0  0.0  1.0  0.0  0.0   0.0  ...        0    0   \n",
              "3        1.0  0.0  0.0  0.0  0.0  0.0  1.0  0.0  0.0   0.0  ...        0    0   \n",
              "4        1.0  0.0  0.0  0.0  0.0  0.0  1.0  0.0  0.0   0.0  ...        0    0   \n",
              "...      ...  ...  ...  ...  ...  ...  ...  ...  ...   ...  ...      ...  ...   \n",
              "1660061  1.0  0.0  0.0  0.0  0.0  0.0  0.0  0.0  1.0   0.0  ...        0    0   \n",
              "1660062  1.0  0.0  0.0  0.0  0.0  0.0  0.0  0.0  1.0   0.0  ...        0    0   \n",
              "1660063  1.0  0.0  0.0  0.0  0.0  0.0  0.0  0.0  1.0   0.0  ...        0    0   \n",
              "1660064  1.0  0.0  0.0  0.0  0.0  0.0  0.0  0.0  1.0   0.0  ...        0    0   \n",
              "1660065  1.0  0.0  0.0  0.0  0.0  0.0  0.0  0.0  1.0   0.0  ...        0    0   \n",
              "\n",
              "        madrs1 madrs2 activity hour minute day Month  Year  \n",
              "0            0      0      174   17     26  28     2  2004  \n",
              "1            0      0       47   17     27  28     2  2004  \n",
              "2            0      0       57   17     28  28     2  2004  \n",
              "3            0      0      137   17     29  28     2  2004  \n",
              "4            0      0       99   17     30  28     2  2004  \n",
              "...        ...    ...      ...  ...    ...  ..   ...   ...  \n",
              "1660061      0      0        0   20     55  19    11  2003  \n",
              "1660062      0      0        0   20     56  19    11  2003  \n",
              "1660063      0      0       16   20     57  19    11  2003  \n",
              "1660064      0      0        0   20     58  19    11  2003  \n",
              "1660065      0      0       47   20     59  19    11  2003  \n",
              "\n",
              "[1660066 rows x 30 columns]"
            ]
          },
          "execution_count": 255,
          "metadata": {},
          "output_type": "execute_result"
        }
      ],
      "source": [
        "colunas = ['ohe1', 'ohe2', 'ohe3','ohe4', 'ohe5', 'ohe6','ohe7', 'ohe8', 'ohe9','ohe10','ohe11','ohe12','ohe13','days','gender','age','afftype','melanch','inpatient','edu','marriage','work','madrs1','madrs2','activity','hour','minute','day','Month','Year']\n",
        "pd.DataFrame(x_x, columns=colunas)"
      ]
    },
    {
      "cell_type": "markdown",
      "id": "8fb48e2c",
      "metadata": {
        "id": "8fb48e2c"
      },
      "source": [
        "# Verificação distribuição dos dados"
      ]
    },
    {
      "cell_type": "code",
      "execution_count": null,
      "id": "9a59d241",
      "metadata": {
        "id": "9a59d241"
      },
      "outputs": [],
      "source": [
        "fig=plt.figure(figsize=(15,20))\n",
        "\n",
        "ax=fig.gca()\n",
        "\n",
        "dataset.hist(ax=ax)"
      ]
    },
    {
      "cell_type": "code",
      "execution_count": null,
      "id": "81ef3377",
      "metadata": {
        "id": "81ef3377"
      },
      "outputs": [],
      "source": [
        "\n",
        "\n",
        "#Analise da matriz de correlações dos dados.\n",
        "\n",
        "# Cálculo da matriz de correlações\n",
        "\n",
        "corr = dataset.iloc[:,0:].corr()\n",
        "corr\n",
        "\n",
        "# Mapa de calor das correlações\n",
        "\n",
        "sns.heatmap(corr, \n",
        "        xticklabels=corr.columns,\n",
        "        yticklabels=corr.columns, cmap=\"YlGnBu\")"
      ]
    },
    {
      "cell_type": "code",
      "execution_count": null,
      "id": "405c1081",
      "metadata": {
        "id": "405c1081"
      },
      "outputs": [],
      "source": [
        "len(dataset.columns)"
      ]
    },
    {
      "cell_type": "code",
      "execution_count": 256,
      "id": "97302411",
      "metadata": {
        "id": "97302411"
      },
      "outputs": [],
      "source": [
        "from sklearn.model_selection import train_test_split\n",
        "x_train, x_test, y_train, y_test = train_test_split(x_x,y_y,test_size = 0.30,random_state=100000)\n",
        "\n"
      ]
    },
    {
      "cell_type": "markdown",
      "id": "d73ff8f3",
      "metadata": {
        "id": "d73ff8f3"
      },
      "source": [
        "# Normalização"
      ]
    },
    {
      "cell_type": "code",
      "execution_count": 141,
      "id": "af1977d4",
      "metadata": {
        "id": "af1977d4"
      },
      "outputs": [
        {
          "data": {
            "text/plain": [
              "array([[1.        , 0.        , 0.        , ..., 0.9       , 0.09090909,\n",
              "        0.5       ],\n",
              "       [1.        , 0.        , 0.        , ..., 0.9       , 0.09090909,\n",
              "        0.5       ],\n",
              "       [1.        , 0.        , 0.        , ..., 0.9       , 0.09090909,\n",
              "        0.5       ],\n",
              "       ...,\n",
              "       [1.        , 0.        , 0.        , ..., 0.6       , 0.90909091,\n",
              "        0.25      ],\n",
              "       [1.        , 0.        , 0.        , ..., 0.6       , 0.90909091,\n",
              "        0.25      ],\n",
              "       [1.        , 0.        , 0.        , ..., 0.6       , 0.90909091,\n",
              "        0.25      ]])"
            ]
          },
          "execution_count": 141,
          "metadata": {},
          "output_type": "execute_result"
        }
      ],
      "source": [
        "#Normalização para ser utilizada na regressão logística\n",
        "from sklearn.preprocessing import MinMaxScaler\n",
        "normalizador=MinMaxScaler (feature_range=(0,1))\n",
        "x_x=normalizador.fit_transform(x_x)\n",
        "\n",
        "x_x"
      ]
    },
    {
      "cell_type": "code",
      "execution_count": null,
      "id": "bedf6a17",
      "metadata": {
        "id": "bedf6a17"
      },
      "outputs": [],
      "source": [
        "#Este gráfico nos diz que existem muito menos casos de pessoas que poderão ter transtorno.\n",
        "# Este fato nos diz que a amostra está totalmente desbalanceada\n",
        "\n",
        "sns.countplot (x='disorder',data=y_y)"
      ]
    },
    {
      "cell_type": "code",
      "execution_count": null,
      "id": "72ef3e06",
      "metadata": {
        "id": "72ef3e06"
      },
      "outputs": [],
      "source": [
        "#Normalização Rede Neural\n",
        "from sklearn.preprocessing import StandardScaler\n",
        "sc = StandardScaler()\n",
        "x_train = sc.fit_transform(x_train)\n",
        "x_test = sc.transform(x_test)\n",
        "\n",
        "x_train"
      ]
    },
    {
      "cell_type": "markdown",
      "id": "72a9edd4",
      "metadata": {
        "id": "72a9edd4"
      },
      "source": [
        "\n",
        "# Utilizando Regressão Logística"
      ]
    },
    {
      "cell_type": "code",
      "execution_count": 182,
      "id": "d9f42423",
      "metadata": {
        "id": "d9f42423"
      },
      "outputs": [
        {
          "name": "stderr",
          "output_type": "stream",
          "text": [
            "c:\\Users\\marce\\AppData\\Local\\Programs\\Python\\Python38\\lib\\site-packages\\sklearn\\utils\\validation.py:1111: DataConversionWarning: A column-vector y was passed when a 1d array was expected. Please change the shape of y to (n_samples, ), for example using ravel().\n",
            "  y = column_or_1d(y, warn=True)\n",
            "c:\\Users\\marce\\AppData\\Local\\Programs\\Python\\Python38\\lib\\site-packages\\sklearn\\svm\\_base.py:1225: ConvergenceWarning: Liblinear failed to converge, increase the number of iterations.\n",
            "  warnings.warn(\n"
          ]
        },
        {
          "name": "stdout",
          "output_type": "stream",
          "text": [
            "Tempo de treino 6.954428199969698\n",
            "Score utilizando Regressão Logistica 0.6070056471245179\n",
            "Matriz de Confusão\n"
          ]
        },
        {
          "data": {
            "text/plain": [
              "<sklearn.metrics._plot.confusion_matrix.ConfusionMatrixDisplay at 0x1a340e6fbb0>"
            ]
          },
          "execution_count": 182,
          "metadata": {},
          "output_type": "execute_result"
        },
        {
          "data": {
            "image/png": "[encoded data removed]",
            "text/plain": [
              "<Figure size 640x480 with 2 Axes>"
            ]
          },
          "metadata": {},
          "output_type": "display_data"
        }
      ],
      "source": [
        "\n",
        "from sklearn.linear_model import LogisticRegression \n",
        "import time\n",
        "\n",
        "model= LogisticRegression(solver='liblinear',max_iter=1)\n",
        "start_time=time.perf_counter()\n",
        "model.fit(x_train,y_train)\n",
        "end_time=time.perf_counter()\n",
        "\n",
        "print(\"Tempo de treino\",end_time-start_time)\n",
        "\n",
        "print(\"Score utilizando Regressão Logistica\", model.score(x_test,y_test))\n",
        "\n",
        "\n",
        "\n",
        "\n",
        "#Matriz de Confusão \n",
        "import matplotlib.pyplot as plt\n",
        "from sklearn.metrics import ConfusionMatrixDisplay\n",
        "\n",
        "print(\"Matriz de Confusão\")\n",
        "ConfusionMatrixDisplay.from_estimator(model,x_test,y_test)"
      ]
    },
    {
      "cell_type": "code",
      "execution_count": null,
      "id": "a6fba83e",
      "metadata": {
        "id": "a6fba83e"
      },
      "outputs": [],
      "source": [
        "from sklearn.linear_model import LogisticRegression \n",
        "import time\n",
        "\n",
        "model= LogisticRegression(solver='lbfgs',max_iter=10000)\n",
        "start_time=time.perf_counter()\n",
        "model.fit(x_train,y_train)\n",
        "end_time=time.perf_counter()\n",
        "\n",
        "print(\"Tempo de treino\",end_time-start_time)\n",
        "\n",
        "print(\"Score utilizando Regressão Logistica\", model.score(x_test,y_test))\n",
        "\n",
        "\n",
        "\n",
        "\n",
        "#Matriz de Confusão \n",
        "import matplotlib.pyplot as plt\n",
        "from sklearn.metrics import ConfusionMatrixDisplay\n",
        "\n",
        "print(\"Matriz de Confusão\")\n",
        "ConfusionMatrixDisplay.from_estimator(model,x_test,y_test)"
      ]
    },
    {
      "cell_type": "markdown",
      "id": "ce4d19be",
      "metadata": {
        "id": "ce4d19be"
      },
      "source": [
        "# Arquitetura de Rede Neural (MLP)"
      ]
    },
    {
      "cell_type": "code",
      "execution_count": null,
      "id": "af30ef36",
      "metadata": {
        "id": "af30ef36"
      },
      "outputs": [
        {
          "name": "stderr",
          "output_type": "stream",
          "text": [
            "c:\\Users\\marce\\AppData\\Local\\Programs\\Python\\Python38\\lib\\site-packages\\keras\\optimizers\\optimizer_v2\\gradient_descent.py:111: UserWarning: The `lr` argument is deprecated, use `learning_rate` instead.\n",
            "  super().__init__(name, **kwargs)\n"
          ]
        }
      ],
      "source": [
        "import keras\n",
        "from keras.models import Sequential\n",
        "from keras.layers import Dense,Dropout,Activation\n",
        "from keras.optimizers import SGD\n",
        "\n",
        "ann = tf.keras.models.Sequential()\n",
        "ann.add(tf.keras.layers.Dense(units=17,activation='relu',kernel_initializer='he_normal'))\n",
        "ann.add(Dropout(0.50))\n",
        "ann.add(tf.keras.layers.Dense(units=10, activation='relu',kernel_initializer='he_normal'))\n",
        "ann.add(Dropout(0.50))\n",
        "ann.add(tf.keras.layers.Dense(units=1, activation='sigmoid'))\n",
        "sgd=SGD(lr=0.01, decay=1e-6,momentum=0.9,nesterov=True)\n",
        "# inicio da contagem do tempo para treino\n",
        "t0 = time.time ()\n",
        "ann.compile(optimizer='adam', loss='binary_crossentropy',metrics=['accuracy'])\n",
        "    \n"
      ]
    },
    {
      "cell_type": "code",
      "execution_count": null,
      "id": "888f5d88",
      "metadata": {},
      "outputs": [],
      "source": []
    },
    {
      "cell_type": "markdown",
      "id": "90931117",
      "metadata": {
        "id": "90931117"
      },
      "source": [
        "# Executando treinamento"
      ]
    },
    {
      "cell_type": "code",
      "execution_count": null,
      "id": "2209a9df",
      "metadata": {
        "id": "2209a9df"
      },
      "outputs": [],
      "source": [
        "from keras.models import Sequential\n",
        "from keras import layers\n",
        "from keras.backend import clear_session\n",
        "clear_session()"
      ]
    },
    {
      "cell_type": "code",
      "execution_count": null,
      "id": "5a8a19f9",
      "metadata": {
        "id": "5a8a19f9"
      },
      "outputs": [],
      "source": [
        "x_train = np.asarray(x_train).astype(np.float32)\n",
        "y_train = np.asarray(y_train).astype(np.float32)"
      ]
    },
    {
      "cell_type": "code",
      "execution_count": null,
      "id": "8499cf34",
      "metadata": {
        "id": "8499cf34"
      },
      "outputs": [
        {
          "name": "stdout",
          "output_type": "stream",
          "text": [
            "Epoch 1/16\n",
            "9079/9079 [==============================] - 18s 2ms/step - loss: 0.0584 - accuracy: 0.9820\n",
            "Epoch 2/16\n",
            "9079/9079 [==============================] - 17s 2ms/step - loss: 0.0569 - accuracy: 0.9820\n",
            "Epoch 3/16\n",
            "9079/9079 [==============================] - 17s 2ms/step - loss: 0.0553 - accuracy: 0.9821\n",
            "Epoch 4/16\n",
            "9079/9079 [==============================] - 18s 2ms/step - loss: 0.0552 - accuracy: 0.9821\n",
            "Epoch 5/16\n",
            "9079/9079 [==============================] - 19s 2ms/step - loss: 0.0554 - accuracy: 0.9821\n",
            "Epoch 6/16\n",
            "9079/9079 [==============================] - 18s 2ms/step - loss: 0.0551 - accuracy: 0.9822\n",
            "Epoch 7/16\n",
            "9079/9079 [==============================] - 18s 2ms/step - loss: 0.0554 - accuracy: 0.9821\n",
            "Epoch 8/16\n",
            "9079/9079 [==============================] - 18s 2ms/step - loss: 0.0553 - accuracy: 0.9821\n",
            "Epoch 9/16\n",
            "5555/9079 [=================>............] - ETA: 7s - loss: 0.0555 - accuracy: 0.9820"
          ]
        },
        {
          "ename": "KeyboardInterrupt",
          "evalue": "",
          "output_type": "error",
          "traceback": [
            "\u001b[1;31m---------------------------------------------------------------------------\u001b[0m",
            "\u001b[1;31mKeyboardInterrupt\u001b[0m                         Traceback (most recent call last)",
            "Cell \u001b[1;32mIn [152], line 1\u001b[0m\n\u001b[1;32m----> 1\u001b[0m history\u001b[39m=\u001b[39mann\u001b[39m.\u001b[39;49mfit(x_train, y_train,batch_size\u001b[39m=\u001b[39;49m\u001b[39m128\u001b[39;49m, epochs\u001b[39m=\u001b[39;49m\u001b[39m16\u001b[39;49m)\n\u001b[0;32m      2\u001b[0m t1 \u001b[39m=\u001b[39m time\u001b[39m.\u001b[39mtime ()\n",
            "File \u001b[1;32mc:\\Users\\marce\\AppData\\Local\\Programs\\Python\\Python38\\lib\\site-packages\\keras\\utils\\traceback_utils.py:65\u001b[0m, in \u001b[0;36mfilter_traceback.<locals>.error_handler\u001b[1;34m(*args, **kwargs)\u001b[0m\n\u001b[0;32m     63\u001b[0m filtered_tb \u001b[39m=\u001b[39m \u001b[39mNone\u001b[39;00m\n\u001b[0;32m     64\u001b[0m \u001b[39mtry\u001b[39;00m:\n\u001b[1;32m---> 65\u001b[0m     \u001b[39mreturn\u001b[39;00m fn(\u001b[39m*\u001b[39;49margs, \u001b[39m*\u001b[39;49m\u001b[39m*\u001b[39;49mkwargs)\n\u001b[0;32m     66\u001b[0m \u001b[39mexcept\u001b[39;00m \u001b[39mException\u001b[39;00m \u001b[39mas\u001b[39;00m e:\n\u001b[0;32m     67\u001b[0m     filtered_tb \u001b[39m=\u001b[39m _process_traceback_frames(e\u001b[39m.\u001b[39m__traceback__)\n",
            "File \u001b[1;32mc:\\Users\\marce\\AppData\\Local\\Programs\\Python\\Python38\\lib\\site-packages\\keras\\engine\\training.py:1564\u001b[0m, in \u001b[0;36mModel.fit\u001b[1;34m(self, x, y, batch_size, epochs, verbose, callbacks, validation_split, validation_data, shuffle, class_weight, sample_weight, initial_epoch, steps_per_epoch, validation_steps, validation_batch_size, validation_freq, max_queue_size, workers, use_multiprocessing)\u001b[0m\n\u001b[0;32m   1556\u001b[0m \u001b[39mwith\u001b[39;00m tf\u001b[39m.\u001b[39mprofiler\u001b[39m.\u001b[39mexperimental\u001b[39m.\u001b[39mTrace(\n\u001b[0;32m   1557\u001b[0m     \u001b[39m\"\u001b[39m\u001b[39mtrain\u001b[39m\u001b[39m\"\u001b[39m,\n\u001b[0;32m   1558\u001b[0m     epoch_num\u001b[39m=\u001b[39mepoch,\n\u001b[1;32m   (...)\u001b[0m\n\u001b[0;32m   1561\u001b[0m     _r\u001b[39m=\u001b[39m\u001b[39m1\u001b[39m,\n\u001b[0;32m   1562\u001b[0m ):\n\u001b[0;32m   1563\u001b[0m     callbacks\u001b[39m.\u001b[39mon_train_batch_begin(step)\n\u001b[1;32m-> 1564\u001b[0m     tmp_logs \u001b[39m=\u001b[39m \u001b[39mself\u001b[39;49m\u001b[39m.\u001b[39;49mtrain_function(iterator)\n\u001b[0;32m   1565\u001b[0m     \u001b[39mif\u001b[39;00m data_handler\u001b[39m.\u001b[39mshould_sync:\n\u001b[0;32m   1566\u001b[0m         context\u001b[39m.\u001b[39masync_wait()\n",
            "File \u001b[1;32mc:\\Users\\marce\\AppData\\Local\\Programs\\Python\\Python38\\lib\\site-packages\\tensorflow\\python\\util\\traceback_utils.py:150\u001b[0m, in \u001b[0;36mfilter_traceback.<locals>.error_handler\u001b[1;34m(*args, **kwargs)\u001b[0m\n\u001b[0;32m    148\u001b[0m filtered_tb \u001b[39m=\u001b[39m \u001b[39mNone\u001b[39;00m\n\u001b[0;32m    149\u001b[0m \u001b[39mtry\u001b[39;00m:\n\u001b[1;32m--> 150\u001b[0m   \u001b[39mreturn\u001b[39;00m fn(\u001b[39m*\u001b[39;49margs, \u001b[39m*\u001b[39;49m\u001b[39m*\u001b[39;49mkwargs)\n\u001b[0;32m    151\u001b[0m \u001b[39mexcept\u001b[39;00m \u001b[39mException\u001b[39;00m \u001b[39mas\u001b[39;00m e:\n\u001b[0;32m    152\u001b[0m   filtered_tb \u001b[39m=\u001b[39m _process_traceback_frames(e\u001b[39m.\u001b[39m__traceback__)\n",
            "File \u001b[1;32mc:\\Users\\marce\\AppData\\Local\\Programs\\Python\\Python38\\lib\\site-packages\\tensorflow\\python\\eager\\def_function.py:915\u001b[0m, in \u001b[0;36mFunction.__call__\u001b[1;34m(self, *args, **kwds)\u001b[0m\n\u001b[0;32m    912\u001b[0m compiler \u001b[39m=\u001b[39m \u001b[39m\"\u001b[39m\u001b[39mxla\u001b[39m\u001b[39m\"\u001b[39m \u001b[39mif\u001b[39;00m \u001b[39mself\u001b[39m\u001b[39m.\u001b[39m_jit_compile \u001b[39melse\u001b[39;00m \u001b[39m\"\u001b[39m\u001b[39mnonXla\u001b[39m\u001b[39m\"\u001b[39m\n\u001b[0;32m    914\u001b[0m \u001b[39mwith\u001b[39;00m OptionalXlaContext(\u001b[39mself\u001b[39m\u001b[39m.\u001b[39m_jit_compile):\n\u001b[1;32m--> 915\u001b[0m   result \u001b[39m=\u001b[39m \u001b[39mself\u001b[39;49m\u001b[39m.\u001b[39;49m_call(\u001b[39m*\u001b[39;49margs, \u001b[39m*\u001b[39;49m\u001b[39m*\u001b[39;49mkwds)\n\u001b[0;32m    917\u001b[0m new_tracing_count \u001b[39m=\u001b[39m \u001b[39mself\u001b[39m\u001b[39m.\u001b[39mexperimental_get_tracing_count()\n\u001b[0;32m    918\u001b[0m without_tracing \u001b[39m=\u001b[39m (tracing_count \u001b[39m==\u001b[39m new_tracing_count)\n",
            "File \u001b[1;32mc:\\Users\\marce\\AppData\\Local\\Programs\\Python\\Python38\\lib\\site-packages\\tensorflow\\python\\eager\\def_function.py:947\u001b[0m, in \u001b[0;36mFunction._call\u001b[1;34m(self, *args, **kwds)\u001b[0m\n\u001b[0;32m    944\u001b[0m   \u001b[39mself\u001b[39m\u001b[39m.\u001b[39m_lock\u001b[39m.\u001b[39mrelease()\n\u001b[0;32m    945\u001b[0m   \u001b[39m# In this case we have created variables on the first call, so we run the\u001b[39;00m\n\u001b[0;32m    946\u001b[0m   \u001b[39m# defunned version which is guaranteed to never create variables.\u001b[39;00m\n\u001b[1;32m--> 947\u001b[0m   \u001b[39mreturn\u001b[39;00m \u001b[39mself\u001b[39;49m\u001b[39m.\u001b[39;49m_stateless_fn(\u001b[39m*\u001b[39;49margs, \u001b[39m*\u001b[39;49m\u001b[39m*\u001b[39;49mkwds)  \u001b[39m# pylint: disable=not-callable\u001b[39;00m\n\u001b[0;32m    948\u001b[0m \u001b[39melif\u001b[39;00m \u001b[39mself\u001b[39m\u001b[39m.\u001b[39m_stateful_fn \u001b[39mis\u001b[39;00m \u001b[39mnot\u001b[39;00m \u001b[39mNone\u001b[39;00m:\n\u001b[0;32m    949\u001b[0m   \u001b[39m# Release the lock early so that multiple threads can perform the call\u001b[39;00m\n\u001b[0;32m    950\u001b[0m   \u001b[39m# in parallel.\u001b[39;00m\n\u001b[0;32m    951\u001b[0m   \u001b[39mself\u001b[39m\u001b[39m.\u001b[39m_lock\u001b[39m.\u001b[39mrelease()\n",
            "File \u001b[1;32mc:\\Users\\marce\\AppData\\Local\\Programs\\Python\\Python38\\lib\\site-packages\\tensorflow\\python\\eager\\function.py:2496\u001b[0m, in \u001b[0;36mFunction.__call__\u001b[1;34m(self, *args, **kwargs)\u001b[0m\n\u001b[0;32m   2493\u001b[0m \u001b[39mwith\u001b[39;00m \u001b[39mself\u001b[39m\u001b[39m.\u001b[39m_lock:\n\u001b[0;32m   2494\u001b[0m   (graph_function,\n\u001b[0;32m   2495\u001b[0m    filtered_flat_args) \u001b[39m=\u001b[39m \u001b[39mself\u001b[39m\u001b[39m.\u001b[39m_maybe_define_function(args, kwargs)\n\u001b[1;32m-> 2496\u001b[0m \u001b[39mreturn\u001b[39;00m graph_function\u001b[39m.\u001b[39;49m_call_flat(\n\u001b[0;32m   2497\u001b[0m     filtered_flat_args, captured_inputs\u001b[39m=\u001b[39;49mgraph_function\u001b[39m.\u001b[39;49mcaptured_inputs)\n",
            "File \u001b[1;32mc:\\Users\\marce\\AppData\\Local\\Programs\\Python\\Python38\\lib\\site-packages\\tensorflow\\python\\eager\\function.py:1862\u001b[0m, in \u001b[0;36mConcreteFunction._call_flat\u001b[1;34m(self, args, captured_inputs, cancellation_manager)\u001b[0m\n\u001b[0;32m   1858\u001b[0m possible_gradient_type \u001b[39m=\u001b[39m gradients_util\u001b[39m.\u001b[39mPossibleTapeGradientTypes(args)\n\u001b[0;32m   1859\u001b[0m \u001b[39mif\u001b[39;00m (possible_gradient_type \u001b[39m==\u001b[39m gradients_util\u001b[39m.\u001b[39mPOSSIBLE_GRADIENT_TYPES_NONE\n\u001b[0;32m   1860\u001b[0m     \u001b[39mand\u001b[39;00m executing_eagerly):\n\u001b[0;32m   1861\u001b[0m   \u001b[39m# No tape is watching; skip to running the function.\u001b[39;00m\n\u001b[1;32m-> 1862\u001b[0m   \u001b[39mreturn\u001b[39;00m \u001b[39mself\u001b[39m\u001b[39m.\u001b[39m_build_call_outputs(\u001b[39mself\u001b[39;49m\u001b[39m.\u001b[39;49m_inference_function\u001b[39m.\u001b[39;49mcall(\n\u001b[0;32m   1863\u001b[0m       ctx, args, cancellation_manager\u001b[39m=\u001b[39;49mcancellation_manager))\n\u001b[0;32m   1864\u001b[0m forward_backward \u001b[39m=\u001b[39m \u001b[39mself\u001b[39m\u001b[39m.\u001b[39m_select_forward_and_backward_functions(\n\u001b[0;32m   1865\u001b[0m     args,\n\u001b[0;32m   1866\u001b[0m     possible_gradient_type,\n\u001b[0;32m   1867\u001b[0m     executing_eagerly)\n\u001b[0;32m   1868\u001b[0m forward_function, args_with_tangents \u001b[39m=\u001b[39m forward_backward\u001b[39m.\u001b[39mforward()\n",
            "File \u001b[1;32mc:\\Users\\marce\\AppData\\Local\\Programs\\Python\\Python38\\lib\\site-packages\\tensorflow\\python\\eager\\function.py:499\u001b[0m, in \u001b[0;36m_EagerDefinedFunction.call\u001b[1;34m(self, ctx, args, cancellation_manager)\u001b[0m\n\u001b[0;32m    497\u001b[0m \u001b[39mwith\u001b[39;00m _InterpolateFunctionError(\u001b[39mself\u001b[39m):\n\u001b[0;32m    498\u001b[0m   \u001b[39mif\u001b[39;00m cancellation_manager \u001b[39mis\u001b[39;00m \u001b[39mNone\u001b[39;00m:\n\u001b[1;32m--> 499\u001b[0m     outputs \u001b[39m=\u001b[39m execute\u001b[39m.\u001b[39;49mexecute(\n\u001b[0;32m    500\u001b[0m         \u001b[39mstr\u001b[39;49m(\u001b[39mself\u001b[39;49m\u001b[39m.\u001b[39;49msignature\u001b[39m.\u001b[39;49mname),\n\u001b[0;32m    501\u001b[0m         num_outputs\u001b[39m=\u001b[39;49m\u001b[39mself\u001b[39;49m\u001b[39m.\u001b[39;49m_num_outputs,\n\u001b[0;32m    502\u001b[0m         inputs\u001b[39m=\u001b[39;49margs,\n\u001b[0;32m    503\u001b[0m         attrs\u001b[39m=\u001b[39;49mattrs,\n\u001b[0;32m    504\u001b[0m         ctx\u001b[39m=\u001b[39;49mctx)\n\u001b[0;32m    505\u001b[0m   \u001b[39melse\u001b[39;00m:\n\u001b[0;32m    506\u001b[0m     outputs \u001b[39m=\u001b[39m execute\u001b[39m.\u001b[39mexecute_with_cancellation(\n\u001b[0;32m    507\u001b[0m         \u001b[39mstr\u001b[39m(\u001b[39mself\u001b[39m\u001b[39m.\u001b[39msignature\u001b[39m.\u001b[39mname),\n\u001b[0;32m    508\u001b[0m         num_outputs\u001b[39m=\u001b[39m\u001b[39mself\u001b[39m\u001b[39m.\u001b[39m_num_outputs,\n\u001b[1;32m   (...)\u001b[0m\n\u001b[0;32m    511\u001b[0m         ctx\u001b[39m=\u001b[39mctx,\n\u001b[0;32m    512\u001b[0m         cancellation_manager\u001b[39m=\u001b[39mcancellation_manager)\n",
            "File \u001b[1;32mc:\\Users\\marce\\AppData\\Local\\Programs\\Python\\Python38\\lib\\site-packages\\tensorflow\\python\\eager\\execute.py:54\u001b[0m, in \u001b[0;36mquick_execute\u001b[1;34m(op_name, num_outputs, inputs, attrs, ctx, name)\u001b[0m\n\u001b[0;32m     52\u001b[0m \u001b[39mtry\u001b[39;00m:\n\u001b[0;32m     53\u001b[0m   ctx\u001b[39m.\u001b[39mensure_initialized()\n\u001b[1;32m---> 54\u001b[0m   tensors \u001b[39m=\u001b[39m pywrap_tfe\u001b[39m.\u001b[39;49mTFE_Py_Execute(ctx\u001b[39m.\u001b[39;49m_handle, device_name, op_name,\n\u001b[0;32m     55\u001b[0m                                       inputs, attrs, num_outputs)\n\u001b[0;32m     56\u001b[0m \u001b[39mexcept\u001b[39;00m core\u001b[39m.\u001b[39m_NotOkStatusException \u001b[39mas\u001b[39;00m e:\n\u001b[0;32m     57\u001b[0m   \u001b[39mif\u001b[39;00m name \u001b[39mis\u001b[39;00m \u001b[39mnot\u001b[39;00m \u001b[39mNone\u001b[39;00m:\n",
            "\u001b[1;31mKeyboardInterrupt\u001b[0m: "
          ]
        }
      ],
      "source": [
        "history=ann.fit(x_train, y_train,batch_size=128, epochs=16)\n",
        "t1 = time.time ()\n",
        "\n"
      ]
    },
    {
      "cell_type": "code",
      "execution_count": null,
      "id": "9c169bc1",
      "metadata": {},
      "outputs": [
        {
          "name": "stdout",
          "output_type": "stream",
          "text": [
            "36314/36314 [==============================] - 56s 2ms/step\n",
            "0.9999973338308437\n",
            "15564/15564 [==============================] - 17s 1ms/step\n",
            "0.986366745214192\n"
          ]
        }
      ],
      "source": [
        "from sklearn import metrics\n",
        "\n",
        "y_hat_train = ann.predict(x_train)\n",
        "print(metrics.r2_score(y_train, y_hat_train))\n",
        "\n",
        "y_hat_test = ann.predict(x_test)\n",
        "print(metrics.r2_score(y_test, y_hat_test))"
      ]
    },
    {
      "cell_type": "code",
      "execution_count": null,
      "id": "ef20dc62",
      "metadata": {},
      "outputs": [],
      "source": [
        "from keras import backend as K"
      ]
    },
    {
      "cell_type": "code",
      "execution_count": null,
      "id": "5d8d9472",
      "metadata": {},
      "outputs": [],
      "source": []
    },
    {
      "cell_type": "code",
      "execution_count": null,
      "id": "fa16b2e0",
      "metadata": {
        "id": "fa16b2e0"
      },
      "outputs": [],
      "source": [
        "history=ann.fit(x_train, y_train, validation_data=(x_test, y_test),batch_size=10, epochs=10)\n",
        "t1 = time.time ()"
      ]
    },
    {
      "cell_type": "code",
      "execution_count": null,
      "id": "f86fc1b2",
      "metadata": {
        "id": "f86fc1b2"
      },
      "outputs": [],
      "source": [
        "#Mostrando o loss e acuracia durante o treinamento\n",
        "\n",
        "plt.figure()\n",
        "plt.subplot(2,1,1)\n",
        "plt.title('Loss X Acurácia')\n",
        "plt.plot(history.history['loss'])\n",
        "plt.ylabel('loss');plt.xlabel('epoch')\n",
        "plt.legend(['Loss'], loc='upper right')\n",
        "plt.subplot(2,1,2)\n",
        "plt.plot(history.history['accuracy'])\n",
        "plt.ylabel('acurácia');plt.xlabel('epoch')\n",
        "plt.legend([\"acurácia\"],loc='lower right')\n",
        "\n",
        "plt.show()"
      ]
    },
    {
      "cell_type": "code",
      "execution_count": null,
      "id": "caa12bc3",
      "metadata": {
        "id": "caa12bc3"
      },
      "outputs": [],
      "source": [
        "loss, accuracy = ann.evaluate(x_train, y_train, verbose=False)\n",
        "print(\"Training Accuracy: {:.4f}\".format(accuracy))\n",
        "loss, accuracy = ann.evaluate(x_test, y_test, verbose=False)\n",
        "print(\"Testing Accuracy:  {:.4f}\".format(accuracy))"
      ]
    },
    {
      "cell_type": "code",
      "execution_count": null,
      "id": "3f1a8aac",
      "metadata": {
        "id": "3f1a8aac"
      },
      "outputs": [],
      "source": [
        "\n",
        "\n",
        "import matplotlib.pyplot as plt\n",
        "plt.style.use('ggplot')\n",
        "\n",
        "plt.figure(1)\n",
        "\n",
        "# summarize history for accuracy\n",
        "\n",
        "plt.subplot(211)\n",
        "plt.plot(history.history['accuracy'])\n",
        "plt.plot(history.history['val_accuracy'])\n",
        "plt.title('Model Accuracy')\n",
        "plt.ylabel('Accuracy')\n",
        "plt.xlabel('Epoch')\n",
        "plt.legend(['Training', 'Validation'], loc='lower right')\n",
        "\n",
        "# summarize history for loss\n",
        "\n",
        "plt.subplot(212)\n",
        "plt.plot(history.history['loss'])\n",
        "plt.plot(history.history['val_loss'])\n",
        "plt.title('Model Loss')\n",
        "plt.ylabel('Loss')\n",
        "plt.xlabel('Epoch')\n",
        "plt.legend(['Training', 'Validation'], loc='upper right')\n",
        "\n",
        "plt.tight_layout()\n",
        "\n",
        "plt.show()"
      ]
    },
    {
      "cell_type": "code",
      "execution_count": 34,
      "id": "02a9ca0c",
      "metadata": {
        "id": "02a9ca0c"
      },
      "outputs": [
        {
          "name": "stdout",
          "output_type": "stream",
          "text": [
            "Model: \"sequential\"\n",
            "_________________________________________________________________\n",
            " Layer (type)                Output Shape              Param #   \n",
            "=================================================================\n",
            " dense (Dense)               (None, 17)                102       \n",
            "                                                                 \n",
            " dropout (Dropout)           (None, 17)                0         \n",
            "                                                                 \n",
            " dense_1 (Dense)             (None, 10)                180       \n",
            "                                                                 \n",
            " dropout_1 (Dropout)         (None, 10)                0         \n",
            "                                                                 \n",
            " dense_2 (Dense)             (None, 1)                 11        \n",
            "                                                                 \n",
            "=================================================================\n",
            "Total params: 293\n",
            "Trainable params: 293\n",
            "Non-trainable params: 0\n",
            "_________________________________________________________________\n",
            "None\n"
          ]
        }
      ],
      "source": [
        "print(ann.summary())"
      ]
    },
    {
      "cell_type": "code",
      "execution_count": 35,
      "id": "d161d021",
      "metadata": {},
      "outputs": [
        {
          "data": {
            "image/png": "[encoded data removed]",
            "text/plain": [
              "<IPython.core.display.Image object>"
            ]
          },
          "execution_count": 35,
          "metadata": {},
          "output_type": "execute_result"
        }
      ],
      "source": [
        "from keras.utils.vis_utils import pydot\n",
        "from keras.utils.vis_utils import plot_model\n",
        "\n",
        "plot_model(ann, to_file='model.png', show_shapes=True, show_layer_names=True)\n",
        "\n"
      ]
    },
    {
      "cell_type": "markdown",
      "id": "41cfa91c",
      "metadata": {
        "id": "41cfa91c"
      },
      "source": [
        "\n",
        "import scikitplot as skplt\n",
        "import matplotlib.pyplot as plt\n",
        "\n",
        "y_true = ground truth labels\n",
        "y_probas =  predicted probabilities generated by sklearn classifier\n",
        "skplt.metrics.plot_roc_curve(y_test, y_pred)\n",
        "plt.show()"
      ]
    },
    {
      "cell_type": "code",
      "execution_count": 26,
      "id": "7b243a3c",
      "metadata": {
        "id": "7b243a3c"
      },
      "outputs": [
        {
          "name": "stdout",
          "output_type": "stream",
          "text": [
            "15564/15564 [==============================] - 15s 927us/step\n",
            "data pred= [[0 0]\n",
            " [1 1]\n",
            " [0 0]\n",
            " ...\n",
            " [1 1]\n",
            " [0 0]\n",
            " [0 0]]\n"
          ]
        }
      ],
      "source": [
        "#Realizando as previsões e avaliação do modelo\n",
        "y_pred = ann.predict(x_test)\n",
        "y_pred = (y_pred > 0.5)#se y_pred for maior que 0,5 retorna true(1) outra coisa falsa(2)\n",
        "\n",
        "pred_array = 1 * y_pred.reshape(len(y_pred), 1)\n",
        "test_array = y_test.values.reshape(len(y_test), 1)\n",
        "print('data pred=',np.concatenate([pred_array, test_array], axis=1))\n",
        "\n",
        "#y_pred = np.asarray(y_pred).astype(np.int32)\n",
        "#y_test = np.asarray(y_test).astype(np.int32)"
      ]
    },
    {
      "cell_type": "code",
      "execution_count": 34,
      "id": "f93879eb",
      "metadata": {
        "id": "f93879eb"
      },
      "outputs": [
        {
          "name": "stdout",
          "output_type": "stream",
          "text": [
            "Training Accuracy: 1.00\n",
            "Testing Accuracy:  1.00\n"
          ]
        }
      ],
      "source": [
        "#Mostrando os resultados dos testes\n",
        "\n",
        "loss, accuracy = ann.evaluate(x_train, y_train, verbose=False)\n",
        "print(\"Training Accuracy: {:.2f}\".format(accuracy))\n",
        "loss, accuracy = ann.evaluate(x_test, y_test, verbose=False)\n",
        "print(\"Testing Accuracy:  {:.2f}\".format(accuracy))\n",
        "\n",
        "\n"
      ]
    },
    {
      "cell_type": "code",
      "execution_count": 37,
      "id": "45d5260c",
      "metadata": {
        "id": "45d5260c"
      },
      "outputs": [
        {
          "data": {
            "image/png": "[encoded data removed]",
            "text/plain": [
              "<Figure size 640x480 with 1 Axes>"
            ]
          },
          "metadata": {},
          "output_type": "display_data"
        }
      ],
      "source": [
        "plt.figure()\n",
        "plt.plot(y_test-np.around(y_pred))\n",
        "plt.title(\"Erro de previsão: $y-y_{previsto}$\")\n",
        "plt.show()"
      ]
    },
    {
      "cell_type": "code",
      "execution_count": 36,
      "id": "e094ad42",
      "metadata": {
        "id": "e094ad42"
      },
      "outputs": [
        {
          "data": {
            "image/png": "[encoded data removed]",
            "text/plain": [
              "<Figure size 640x480 with 2 Axes>"
            ]
          },
          "metadata": {},
          "output_type": "display_data"
        }
      ],
      "source": [
        "from sklearn.metrics import confusion_matrix, accuracy_score\n",
        "import seaborn as sns\n",
        "import matplotlib.pyplot as plt\n",
        "cm = confusion_matrix(y_test, y_pred)    #vn (rede disse que é 1, mas é de fato 1 ), fp(rede disse que é 1, mas é 0), fn (rede disse que é 0, mas é 1)\n",
        "IC = type('IdentityClassifier', (), {\"predict\": lambda i : i, \"_estimator_type\": \"classifier\"})\n",
        "f = sns.heatmap(cm, annot=True, fmt='d')"
      ]
    },
    {
      "cell_type": "code",
      "execution_count": null,
      "id": "86efd8c7",
      "metadata": {
        "id": "86efd8c7"
      },
      "outputs": [],
      "source": [
        "from sklearn.metrics import accuracy_score\n",
        "accuracy_score(y_test, y_pred).std()\n",
        "\n",
        "\n",
        "\n"
      ]
    },
    {
      "cell_type": "code",
      "execution_count": null,
      "id": "058a68a3",
      "metadata": {},
      "outputs": [],
      "source": [
        "from sklearn.model_selection import StratifiedKFold\n",
        "from sklearn.model_selection import cross_val_score\n",
        "\n",
        "kfold = StratifiedKFold(n_splits=5, shuffle=True)\n",
        "results = cross_val_score(ann, x_x, y_y, cv=kfold)\n",
        "print(results.std())"
      ]
    },
    {
      "cell_type": "code",
      "execution_count": null,
      "id": "c9ca5e22",
      "metadata": {
        "id": "c9ca5e22"
      },
      "outputs": [],
      "source": [
        "score=ann.evaluate(x_test,y_test,batch_size=200)\n",
        "\n",
        "print()"
      ]
    },
    {
      "cell_type": "code",
      "execution_count": null,
      "id": "eb68e9f0",
      "metadata": {
        "id": "eb68e9f0"
      },
      "outputs": [],
      "source": [
        "print(\"second: \",(t1-t0),\",\",ann.metrics_names[1],score[1]*100)\n"
      ]
    },
    {
      "cell_type": "code",
      "execution_count": null,
      "id": "d7b3327d",
      "metadata": {
        "id": "d7b3327d"
      },
      "outputs": [],
      "source": [
        "t0\n"
      ]
    },
    {
      "cell_type": "code",
      "execution_count": null,
      "id": "2e0a09ef",
      "metadata": {
        "id": "2e0a09ef"
      },
      "outputs": [],
      "source": [
        "t1"
      ]
    },
    {
      "cell_type": "code",
      "execution_count": 45,
      "id": "fc155404",
      "metadata": {
        "id": "fc155404"
      },
      "outputs": [
        {
          "name": "stdout",
          "output_type": "stream",
          "text": [
            "              precision    recall  f1-score   support\n",
            "\n",
            "           0       1.00      1.00      1.00    301914\n",
            "           1       0.99      1.00      1.00    196106\n",
            "\n",
            "    accuracy                           1.00    498020\n",
            "   macro avg       1.00      1.00      1.00    498020\n",
            "weighted avg       1.00      1.00      1.00    498020\n",
            "\n"
          ]
        }
      ],
      "source": [
        "from sklearn.metrics import classification_report,confusion_matrix\n",
        "\n",
        "print(classification_report(y_test, y_pred))\n"
      ]
    },
    {
      "cell_type": "code",
      "execution_count": null,
      "id": "293918d8",
      "metadata": {
        "id": "293918d8"
      },
      "outputs": [],
      "source": [
        "dataset['disorder'].value_counts()"
      ]
    },
    {
      "cell_type": "markdown",
      "id": "823a00e9",
      "metadata": {
        "id": "823a00e9"
      },
      "source": [
        "# GridSearch na MLP"
      ]
    },
    {
      "cell_type": "code",
      "execution_count": null,
      "id": "238f7c8c",
      "metadata": {
        "id": "238f7c8c"
      },
      "outputs": [],
      "source": [
        "from sklearn.model_selection import GridSearchCV\n",
        "from keras.models import Sequential\n",
        "from keras.layers import Dense\n",
        "from keras.wrappers.scikit_learn import KerasClassifier"
      ]
    },
    {
      "cell_type": "code",
      "execution_count": null,
      "id": "c4bd15ec",
      "metadata": {
        "colab": {
          "base_uri": "https://localhost:8080/"
        },
        "id": "c4bd15ec",
        "outputId": "1e287f26-dfa4-41b1-e333-7cf3baed4453"
      },
      "outputs": [],
      "source": [
        "# creado o modelo\n",
        "model = KerasClassifier(build_fn=create_model, verbose=1)"
      ]
    },
    {
      "cell_type": "code",
      "execution_count": null,
      "id": "ndM8K6o0r4uZ",
      "metadata": {
        "colab": {
          "base_uri": "https://localhost:8080/"
        },
        "id": "ndM8K6o0r4uZ",
        "outputId": "36bdd57b-e462-45a4-de0f-b3e475284e6c"
      },
      "outputs": [],
      "source": [
        "import subprocess\n",
        "print((subprocess.check_output(\"lscpu\", shell=True).strip()).decode())"
      ]
    },
    {
      "cell_type": "code",
      "execution_count": null,
      "id": "TBeno8YnsJUR",
      "metadata": {
        "id": "TBeno8YnsJUR"
      },
      "outputs": [],
      "source": [
        "import pandas as pd\n",
        "import numpy as np\n",
        "import warnings\n",
        "warnings.filterwarnings('ignore')\n",
        "from datetime import datetime\n",
        "from sklearn.model_selection import RandomizedSearchCV, GridSearchCV\n",
        "from sklearn import metrics\n",
        "from sklearn.metrics import roc_auc_score\n",
        "from sklearn.model_selection import StratifiedKFold\n",
        "from xgboost import XGBClassifier"
      ]
    },
    {
      "cell_type": "code",
      "execution_count": null,
      "id": "803699df",
      "metadata": {
        "colab": {
          "base_uri": "https://localhost:8080/",
          "height": 1000
        },
        "id": "803699df",
        "outputId": "d6cf9d94-5d57-4df4-b787-5f046aa6d785"
      },
      "outputs": [],
      "source": [
        "\n",
        "import multiprocessing\n",
        "n_jobs = multiprocessing.cpu_count()-1\n",
        "optimizer = ['SGD', 'Adam']\n",
        "batch_size = [10]\n",
        "epochs = [32,64]\n",
        "param_grid = dict(optimizer=optimizer, batch_size=batch_size, epochs=epochs)\n",
        "\n",
        "grid = GridSearchCV(estimator=model, param_grid=param_grid,n_jobs=None,cv=2)\n",
        "grid_result = grid.fit(x_train, y_train)"
      ]
    },
    {
      "cell_type": "markdown",
      "id": "e85915ba",
      "metadata": {
        "id": "e85915ba"
      },
      "source": [
        "# Resultado de performace"
      ]
    },
    {
      "cell_type": "code",
      "execution_count": null,
      "id": "dbadaff1",
      "metadata": {
        "id": "dbadaff1"
      },
      "outputs": [],
      "source": [
        "# summarize results\n",
        "\n",
        "print(\"Best: %f using %s\" % (grid_result.best_score_, grid_result.best_params_))\n",
        "means = grid_result.cv_results_['mean_test_score']\n",
        "stds = grid_result.cv_results_['std_test_score']\n",
        "params = grid_result.cv_results_['params']\n",
        "for mean, stdev, param in zip(means, stds, params):\n",
        "    print(\"%f (%f) with: %r\" % (mean, stdev, param))"
      ]
    },
    {
      "cell_type": "code",
      "execution_count": null,
      "id": "92e62dab",
      "metadata": {
        "id": "92e62dab"
      },
      "outputs": [],
      "source": [
        "Best: 1.000000 using {'batch_size': 64, 'epochs': 40, 'optimizer': 'Adam'}\n",
        "0.999998 (0.000002) with: {'batch_size': 64, 'epochs': 40, 'optimizer': 'SGD'}\n",
        "1.000000 (0.000000) with: {'batch_size': 64, 'epochs': 40, 'optimizer': 'Adam'}\n",
        "0.999997 (0.000002) with: {'batch_size': 64, 'epochs': 50, 'optimizer': 'SGD'}\n",
        "1.000000 (0.000000) with: {'batch_size': 64, 'epochs': 50, 'optimizer': 'Adam'}\n",
        "0.999992 (0.000010) with: {'batch_size': 128, 'epochs': 40, 'optimizer': 'SGD'}\n",
        "1.000000 (0.000000) with: {'batch_size': 128, 'epochs': 40, 'optimizer': 'Adam'}\n",
        "0.997432 (0.005129) with: {'batch_size': 128, 'epochs': 50, 'optimizer': 'SGD'}\n",
        "0.997409 (0.005180) with: {'batch_size': 128, 'epochs': 50, 'optimizer': 'Adam'}"
      ]
    },
    {
      "cell_type": "markdown",
      "id": "Tt5BeewC4aaO",
      "metadata": {
        "id": "Tt5BeewC4aaO"
      },
      "source": [
        "# Análise de Overfitting"
      ]
    },
    {
      "cell_type": "code",
      "execution_count": 32,
      "id": "3c52b8f5",
      "metadata": {
        "id": "3c52b8f5"
      },
      "outputs": [
        {
          "name": "stdout",
          "output_type": "stream",
          "text": [
            "36314/36314 [==============================] - 45s 1ms/step\n",
            "15564/15564 [==============================] - 15s 953us/step\n"
          ]
        }
      ],
      "source": [
        "y_pred_metrics_train = ann.predict(x_train)\n",
        "y_pred_metrics_test = ann.predict(x_test)"
      ]
    },
    {
      "cell_type": "code",
      "execution_count": 39,
      "id": "16867edd",
      "metadata": {
        "id": "16867edd"
      },
      "outputs": [
        {
          "name": "stdout",
          "output_type": "stream",
          "text": [
            "disorder    inf\n",
            "dtype: float64\n"
          ]
        },
        {
          "name": "stderr",
          "output_type": "stream",
          "text": [
            "c:\\Users\\marce\\AppData\\Local\\Programs\\Python\\Python38\\lib\\site-packages\\numpy\\core\\fromnumeric.py:3430: FutureWarning: In a future version, DataFrame.mean(axis=None) will return a scalar mean over the entire DataFrame. To retain the old behavior, use 'frame.mean(axis=0)' or just 'frame.mean()'\n",
            "  return mean(axis=axis, dtype=dtype, out=out, **kwargs)\n",
            "c:\\Users\\marce\\AppData\\Local\\Programs\\Python\\Python38\\lib\\site-packages\\numpy\\core\\fromnumeric.py:3430: FutureWarning: In a future version, DataFrame.mean(axis=None) will return a scalar mean over the entire DataFrame. To retain the old behavior, use 'frame.mean(axis=0)' or just 'frame.mean()'\n",
            "  return mean(axis=axis, dtype=dtype, out=out, **kwargs)\n"
          ]
        }
      ],
      "source": [
        "# Métrica de Performace\n",
        "from sklearn.metrics import mean_absolute_error\n",
        "\n",
        "#Treinamento - MAE, MAPE   -- Erro médio absoluto ----  Erro Percentual Médio Absoluto (%)\n",
        "\n",
        "mae_train= mean_absolute_error (y_train,y_pred_metrics_train) \n",
        "mape_train=np.mean(np.abs((y_train-y_pred_metrics_train)/y_train))\n",
        "\n",
        "\n",
        "#teste - MAE, MAPE\n",
        "\n",
        "mae_test= mean_absolute_error (y_test,y_pred_metrics_test) \n",
        "mape_test=np.mean(np.abs((y_test-y_pred_metrics_test)/y_test))\n",
        "\n",
        "print(mape_train)"
      ]
    },
    {
      "cell_type": "code",
      "execution_count": null,
      "id": "XmnzsuEh4aaP",
      "metadata": {
        "id": "XmnzsuEh4aaP"
      },
      "outputs": [],
      "source": [
        "data={\n",
        "    \n",
        "      'Dataframe':['treino', 'teste'],\n",
        "      'MAE':[mae_train,mae_test],'MAPE':[mape_train,mape_test]}\n",
        "\n",
        "pd.DataFrame(data)"
      ]
    },
    {
      "cell_type": "markdown",
      "id": "b21e6fc8",
      "metadata": {
        "id": "b21e6fc8"
      },
      "source": [
        "# Visualizando os dados"
      ]
    },
    {
      "cell_type": "code",
      "execution_count": null,
      "id": "bd3bcc1e",
      "metadata": {
        "id": "bd3bcc1e"
      },
      "outputs": [],
      "source": [
        "dataset_score = pd.read_csv(r\"scores.csv\")\n",
        "dataset_score"
      ]
    },
    {
      "cell_type": "code",
      "execution_count": null,
      "id": "07d775e3",
      "metadata": {
        "id": "07d775e3"
      },
      "outputs": [],
      "source": [
        "plt.scatter(dataset_score[\"age\"], dataset_score[\"disorder\"],color='blue')\n",
        "plt.scatter(dataset[\"disorder\"],dataset[\"activity\"],color='coral')\n",
        "plt.xlabel('Atividade Motora- Transtorno Depressivo Maior')\n",
        "plt.ylabel('Transtorno (Ausência, Presença')\n"
      ]
    },
    {
      "cell_type": "code",
      "execution_count": null,
      "id": "c4430705",
      "metadata": {
        "id": "c4430705"
      },
      "outputs": [],
      "source": [
        "\n",
        "dataset2 = pd.read_csv(r\"condition_total.csv\")\n",
        "dataset2\n",
        "\n",
        "import plotly.express as px\n",
        "fig  = px.scatter(dataset2, x = 'number', y = 'activity', log_x = True, width = 900)\n",
        "fig.update_traces(marker = dict(size = 12, line=dict(width = 2)), selector = dict(mode = 'markers'))\n",
        "fig.update_layout(title = 'Registo de actigrafia x  Controle e Caso')\n",
        "fig.update_xaxes(title = 'Atividade Motora')\n",
        "fig.update_yaxes(title = 'Controles e Casos')\n",
        "fig.show()"
      ]
    },
    {
      "cell_type": "markdown",
      "id": "30a3ae8f",
      "metadata": {
        "id": "30a3ae8f"
      },
      "source": [
        "# Classificador com PCA "
      ]
    },
    {
      "cell_type": "code",
      "execution_count": 257,
      "id": "a5d418a9",
      "metadata": {
        "id": "a5d418a9"
      },
      "outputs": [],
      "source": [
        "from sklearn.decomposition import PCA"
      ]
    },
    {
      "cell_type": "code",
      "execution_count": 258,
      "id": "d193240b",
      "metadata": {
        "id": "d193240b"
      },
      "outputs": [],
      "source": [
        "#Análise para verificar a variabilidade de dados \n",
        "\n",
        "pca=PCA(n_components=5)"
      ]
    },
    {
      "cell_type": "code",
      "execution_count": 259,
      "id": "4087c568",
      "metadata": {
        "id": "4087c568"
      },
      "outputs": [],
      "source": [
        "from sklearn.preprocessing import StandardScaler\n",
        "sc = StandardScaler()\n",
        "x_train = sc.fit_transform(x_train)\n",
        "x_test = sc.transform(x_test)"
      ]
    },
    {
      "cell_type": "code",
      "execution_count": 260,
      "id": "8d1750fa",
      "metadata": {
        "id": "8d1750fa"
      },
      "outputs": [],
      "source": [
        "x_train=pca.fit_transform(x_train)\n",
        "x_test=pca.fit_transform(x_test)"
      ]
    },
    {
      "cell_type": "code",
      "execution_count": 261,
      "id": "3a96faa7",
      "metadata": {
        "colab": {
          "base_uri": "https://localhost:8080/"
        },
        "id": "3a96faa7",
        "outputId": "bb261475-1ddc-4700-e140-b23b6cffad61"
      },
      "outputs": [
        {
          "data": {
            "text/plain": [
              "(5, 30)"
            ]
          },
          "execution_count": 261,
          "metadata": {},
          "output_type": "execute_result"
        }
      ],
      "source": [
        "pca.components_.shape\n",
        "\n",
        "#Coeficiente da componentes principais \n",
        "\n",
        "#Cada linha representa a cada entrada de uma componente "
      ]
    },
    {
      "cell_type": "code",
      "execution_count": 262,
      "id": "b5ac60ba",
      "metadata": {
        "id": "b5ac60ba"
      },
      "outputs": [
        {
          "data": {
            "text/plain": [
              "array([-3.14376636e-01,  1.38075295e-01,  1.18240991e-01,  1.97694670e-01,\n",
              "       -5.37155034e-02, -3.24229951e-02, -7.87099947e-02, -9.64533433e-02,\n",
              "       -8.02454358e-02, -4.14546221e-02,  3.95658147e-03,  2.66177376e-01,\n",
              "       -8.49232873e-02, -4.15523282e-02, -2.81360741e-03,  4.51626367e-02,\n",
              "        2.11840576e-01,  3.10511046e-01,  3.02273267e-01,  3.06297996e-01,\n",
              "        3.05182793e-01,  3.19585687e-01,  3.13762679e-01,  3.12784656e-01,\n",
              "       -7.96830431e-03,  7.40386925e-04,  1.78987391e-04,  1.49249851e-02,\n",
              "        2.86489020e-02,  2.12551172e-02])"
            ]
          },
          "execution_count": 262,
          "metadata": {},
          "output_type": "execute_result"
        }
      ],
      "source": [
        "# Pesos das componentes principais\n",
        "\n",
        "pca.components_[0,:]\n",
        "\n",
        "#As entradas são os coeficientes da combinação linear das variáveis originais\n",
        "# que dão origem a primeira componente principal"
      ]
    },
    {
      "cell_type": "code",
      "execution_count": 263,
      "id": "0c7ccdbb",
      "metadata": {
        "id": "0c7ccdbb"
      },
      "outputs": [
        {
          "data": {
            "text/plain": [
              "array([0.31110549, 0.06557709, 0.05352109, 0.04597918, 0.04428349])"
            ]
          },
          "execution_count": 263,
          "metadata": {},
          "output_type": "execute_result"
        }
      ],
      "source": [
        "#Variância das componentes principais\n",
        "pca.explained_variance_ratio_\n",
        "\n",
        "\n"
      ]
    },
    {
      "cell_type": "code",
      "execution_count": 264,
      "id": "94754131",
      "metadata": {
        "id": "94754131"
      },
      "outputs": [
        {
          "data": {
            "text/plain": [
              "array([0.311, 0.066, 0.054, 0.046, 0.044])"
            ]
          },
          "execution_count": 264,
          "metadata": {},
          "output_type": "execute_result"
        }
      ],
      "source": [
        "np.round(pca.explained_variance_ratio_,3)"
      ]
    },
    {
      "cell_type": "code",
      "execution_count": null,
      "id": "1124a8da",
      "metadata": {
        "id": "1124a8da"
      },
      "outputs": [],
      "source": [
        "X_train=pca.fit_transform(x_train)\n",
        "X_test=pca.transform(x_test)"
      ]
    },
    {
      "cell_type": "code",
      "execution_count": 268,
      "id": "7690306a",
      "metadata": {
        "id": "7690306a"
      },
      "outputs": [
        {
          "data": {
            "image/png": "[encoded data removed]",
            "text/plain": [
              "<Figure size 800x500 with 1 Axes>"
            ]
          },
          "metadata": {},
          "output_type": "display_data"
        }
      ],
      "source": [
        "fig = plt.figure(figsize=(8,5))\n",
        "\n",
        "plt.plot(pca.explained_variance_ratio_,  'ro-', linewidth=2)\n",
        "plt.title('Componentes Pricipais X Autovalores')\n",
        "plt.xlabel('Componentes Principais')\n",
        "plt.ylabel('Autovalores')\n",
        "\n",
        "plt.show()"
      ]
    },
    {
      "cell_type": "code",
      "execution_count": null,
      "id": "c11b0bec",
      "metadata": {
        "id": "c11b0bec"
      },
      "outputs": [],
      "source": [
        "from sklearn.linear_model import LogisticRegression \n",
        "import time\n",
        "\n",
        "model= LogisticRegression(solver='saga',max_iter=1000)\n",
        "start_time=time.perf_counter()\n",
        "model.fit(X_train,y_train)\n",
        "end_time=time.perf_counter()\n",
        "\n",
        "print(\"Tempo de treino\",end_time-start_time)\n",
        "\n",
        "print(\"Score utilizando Regressão Logistica\", model.score(X_test,y_test))\n",
        "\n"
      ]
    },
    {
      "cell_type": "code",
      "execution_count": null,
      "id": "475c53ec",
      "metadata": {
        "id": "475c53ec"
      },
      "outputs": [],
      "source": [
        "from sklearn.metrics import confusion_matrix, accuracy_score\n",
        "import seaborn as sns\n",
        "import matplotlib.pyplot as plt\n",
        "cm = confusion_matrix(X_test,y_test)    #vn (rede disse que é 1, mas é de fato 1 ), fp(rede disse que é 1, mas é 0), fn (rede disse que é 0, mas é 1)\n",
        "IC = type('IdentityClassifier', (), {\"predict\": lambda i : i, \"_estimator_type\": \"classifier\"})\n",
        "f = sns.heatmap(cm, annot=True, fmt='d')"
      ]
    },
    {
      "cell_type": "code",
      "execution_count": null,
      "id": "478e8a85",
      "metadata": {
        "id": "478e8a85"
      },
      "outputs": [],
      "source": [
        "\n",
        "model.score(X_test, y_test)"
      ]
    },
    {
      "cell_type": "markdown",
      "id": "5a6623b1",
      "metadata": {
        "id": "5a6623b1"
      },
      "source": [
        "# Visualização PCA\n"
      ]
    },
    {
      "cell_type": "code",
      "execution_count": 226,
      "id": "7a1d030d",
      "metadata": {
        "id": "7a1d030d"
      },
      "outputs": [
        {
          "name": "stdout",
          "output_type": "stream",
          "text": [
            "[0.59888879 0.12566472 0.10273901 0.08905123 0.08365626]\n"
          ]
        }
      ],
      "source": [
        "from sklearn.decomposition import PCA\n",
        "pca_viewer= PCA(n_components=5)\n",
        "principal_components=pca_viewer.fit_transform(x_train)\n",
        "\n",
        "# Porcentagem de variação explicada para cada componente sobre a componente original \n",
        "\n",
        "print(pca_viewer.explained_variance_ratio_)\n",
        "\n"
      ]
    },
    {
      "cell_type": "code",
      "execution_count": null,
      "id": "ee766ee2",
      "metadata": {
        "id": "ee766ee2"
      },
      "outputs": [],
      "source": [
        "principal_components_df=pd.DataFrame(data=principal_components,columns=['principal component 1','principal component 2' ] )\n",
        "#, 'principal component 3','principal component 4','principal component 5','principal component 6' , 'principal component 7','principal component 8','principal component 9','principal component 10'\n",
        "principal_components_df"
      ]
    },
    {
      "cell_type": "code",
      "execution_count": 40,
      "id": "d3297ae9",
      "metadata": {
        "id": "d3297ae9"
      },
      "outputs": [
        {
          "name": "stdout",
          "output_type": "stream",
          "text": [
            "              precision    recall  f1-score   support\n",
            "\n",
            "           0       1.00      1.00      1.00    301914\n",
            "           1       0.99      1.00      1.00    196106\n",
            "\n",
            "    accuracy                           1.00    498020\n",
            "   macro avg       1.00      1.00      1.00    498020\n",
            "weighted avg       1.00      1.00      1.00    498020\n",
            "\n"
          ]
        }
      ],
      "source": [
        "from sklearn.metrics import classification_report,confusion_matrix\n",
        "\n",
        "print(classification_report(y_test, y_pred))\n"
      ]
    },
    {
      "cell_type": "code",
      "execution_count": null,
      "id": "1e070090",
      "metadata": {
        "id": "1e070090"
      },
      "outputs": [],
      "source": [
        "import seaborn as sns\n",
        "plt.figure(figsize=(15,15))\n",
        "sns.scatterplot(\n",
        "    x=\"principal component 1\", y=\"principal component 2\",\n",
        "    palette=sns.color_palette(\"hls\", 256),\n",
        "    data=principal_components_df,alpha=0.3\n",
        ")"
      ]
    },
    {
      "cell_type": "code",
      "execution_count": null,
      "id": "142f0581",
      "metadata": {
        "id": "142f0581"
      },
      "outputs": [],
      "source": [
        "plt.figure()\n",
        "plt.figure(figsize=(10,10))\n",
        "plt.xticks(fontsize=12)\n",
        "plt.yticks(fontsize=14)\n",
        "plt.xlabel('Principal Component - 1', fontsize=20)\n",
        "plt.ylabel('Principal Component - 2', fontsize=20)\n",
        "plt.xlim(-2500, 2500)\n",
        "plt.ylim(-1500, 1500)\n",
        "plt.title(\"Principal Component Analysis - Stellar\",fontsize=20)\n",
        "targets = [0, 1]\n",
        "colors = ['r','g']\n",
        "\n",
        "for target, color in zip(targets,colors):\n",
        "    indicesToKeep = y_train == targets\n",
        "    plt.scatter(principal_components_df.loc[indicesToKeep, 'principal component 1'], \n",
        "                principal_components_df.loc[indicesToKeep, 'principal component 2'], \n",
        "                c = color, s = 25, alpha=0.5)\n",
        "\n",
        "plt.legend(targets,prop={'size': 15})\n",
        "plt.show()"
      ]
    },
    {
      "cell_type": "markdown",
      "id": "2ed742cd",
      "metadata": {
        "id": "2ed742cd"
      },
      "source": [
        "# Random Forest "
      ]
    },
    {
      "cell_type": "code",
      "execution_count": 204,
      "id": "c480d0d6",
      "metadata": {
        "id": "c480d0d6"
      },
      "outputs": [
        {
          "name": "stderr",
          "output_type": "stream",
          "text": [
            "C:\\Users\\marce\\AppData\\Local\\Temp\\ipykernel_18164\\177469153.py:20: DataConversionWarning: A column-vector y was passed when a 1d array was expected. Please change the shape of y to (n_samples,), for example using ravel().\n",
            "  forest_model.fit(x_train,y_train)\n"
          ]
        },
        {
          "name": "stdout",
          "output_type": "stream",
          "text": [
            "0.6273968138087973\n",
            "0.6063732380225694\n",
            "0.0\n",
            "[[301986      0]\n",
            " [196034      0]]\n",
            "0.39362676197743063\n"
          ]
        }
      ],
      "source": [
        "from sklearn.ensemble import RandomForestClassifier\n",
        "from sklearn.metrics import mean_absolute_error\n",
        "from sklearn.metrics import mean_squared_error\n",
        "from sklearn.model_selection import train_test_split\n",
        "import math\n",
        "from sklearn.metrics import accuracy_score, recall_score, confusion_matrix\n",
        "\n",
        "\n",
        "\n",
        "from sklearn.model_selection import train_test_split\n",
        "x_train, x_test, y_train, y_test = train_test_split(x_x,y_y,test_size = 0.3)\n",
        "\n",
        "forest_model=RandomForestClassifier( min_impurity_decrease=10,\n",
        "                             max_features=5,\n",
        "                             bootstrap=False,\n",
        "                             random_state=400,\n",
        "                             criterion='entropy',\n",
        "                             warm_start=False)\n",
        "\n",
        "forest_model.fit(x_train,y_train)\n",
        "predict_forest=forest_model.predict(x_test)\n",
        "\n",
        "print(np.sqrt(mean_squared_error(y_test,predict_forest)))\n",
        "\n",
        "\n",
        "\n",
        "print(accuracy_score(y_test,predict_forest))\n",
        "print(recall_score(y_test,predict_forest))\n",
        "print(confusion_matrix(y_test,predict_forest))\n",
        "\n",
        "\n",
        "\n",
        "print(mean_absolute_error(y_test,predict_forest))\n",
        "\n"
      ]
    }
  ],
  "metadata": {
    "accelerator": "GPU",
    "colab": {
      "collapsed_sections": [
        "41cfa91c",
        "Tt5BeewC4aaO",
        "b21e6fc8",
        "5a6623b1",
        "2ed742cd"
      ],
      "provenance": []
    },
    "gpuClass": "premium",
    "kernelspec": {
      "display_name": "Python 3.8.8 64-bit",
      "language": "python",
      "name": "python3"
    },
    "language_info": {
      "codemirror_mode": {
        "name": "ipython",
        "version": 3
      },
      "file_extension": ".py",
      "mimetype": "text/x-python",
      "name": "python",
      "nbconvert_exporter": "python",
      "pygments_lexer": "ipython3",
      "version": "3.8.8"
    },
    "vscode": {
      "interpreter": {
        "hash": "10b50242b7022fb388a3d321249ec5a04e1ec38b639587da823b106574fa9232"
      }
    }
  },
  "nbformat": 4,
  "nbformat_minor": 5
}
